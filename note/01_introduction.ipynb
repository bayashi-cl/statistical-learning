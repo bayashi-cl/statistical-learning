{
  "nbformat": 4,
  "nbformat_minor": 0,
  "metadata": {
    "colab": {
      "name": "01_introduction.ipynb",
      "provenance": [],
      "authorship_tag": "ABX9TyNiCYr2et0DFfQLLz+2PtdO",
      "include_colab_link": true
    },
    "kernelspec": {
      "name": "ir",
      "display_name": "R"
    },
    "language_info": {
      "name": "R"
    }
  },
  "cells": [
    {
      "cell_type": "markdown",
      "metadata": {
        "id": "view-in-github",
        "colab_type": "text"
      },
      "source": [
        "<a href=\"https://colab.research.google.com/github/bayashi-cl/statistical-learning/blob/main/note/01_introduction.ipynb\" target=\"_parent\"><img src=\"https://colab.research.google.com/assets/colab-badge.svg\" alt=\"Open In Colab\"/></a>"
      ]
    },
    {
      "cell_type": "markdown",
      "metadata": {
        "id": "B6SDg8KKEQyv"
      },
      "source": [
        "# 『An Introduction to Statistical Learning with Applications in R』概要\n",
        "\n",
        "## 1 イントロダクション\n",
        "\n",
        "* 使用されるデータセットの紹介\n",
        "* 統計的学習の歴史\n",
        "* この本について\n",
        "\n",
        "## 2 統計的学習とは\n",
        "\n",
        "* 統計的学習の基本的な用語や概念\n",
        "* K近傍法\n",
        "\n",
        "## 3 線形回帰\n",
        "\n",
        "* 単回帰・重回帰\n",
        "* その他の回帰モデル\n",
        "* K近傍法との比較\n",
        "\n",
        "## 4 分類\n",
        "\n",
        "* 線形回帰との比較\n",
        "* ロジスティック回帰\n",
        "\n",
        "## 5 リサンプリング\n",
        "\n",
        "## 6 線形モデルの選択とと正則化\n",
        "\n",
        "## 7 線形性をこえて\n",
        "\n",
        "## 8 木に基づく方法\n",
        "\n",
        "## 9 サポートベクターマシン\n",
        "\n",
        "## 10 深層学習\n",
        "\n",
        "## 11 生存分析と打ち切り\n",
        "\n",
        "## 12 教師なし学習\n",
        "\n",
        "## 13 多重検定"
      ]
    }
  ]
}
