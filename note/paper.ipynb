{
  "nbformat": 4,
  "nbformat_minor": 0,
  "metadata": {
    "colab": {
      "name": "Untitled3.ipynb",
      "provenance": [],
      "collapsed_sections": [],
      "authorship_tag": "ABX9TyNVtSLrG836lSGSNlK3zo8P",
      "include_colab_link": true
    },
    "kernelspec": {
      "name": "python3",
      "display_name": "Python 3"
    },
    "language_info": {
      "name": "python"
    }
  },
  "cells": [
    {
      "cell_type": "markdown",
      "metadata": {
        "id": "view-in-github",
        "colab_type": "text"
      },
      "source": [
        "<a href=\"https://colab.research.google.com/github/bayashi-cl/statistical-learning/blob/main/note/paper.ipynb\" target=\"_parent\"><img src=\"https://colab.research.google.com/assets/colab-badge.svg\" alt=\"Open In Colab\"/></a>"
      ]
    },
    {
      "cell_type": "markdown",
      "source": [
        "# 経済学における分析手法と深層学習の比較"
      ],
      "metadata": {
        "id": "1pHoxRzi5P5n"
      }
    },
    {
      "cell_type": "markdown",
      "source": [
        "## きっかけ\n",
        "\n",
        "An Introduction to Statistical Learning(ISLR)の深層学習についての章(p.432 - p.431)にRecurrent Neural Networks(RNN)を用いてニューヨーク株式市場のの出来高を予測するという項目がある。そこでは直近5日間のデータをもとにRNNを学習させるモデルが紹介されていた。\n",
        "\n",
        "ISLRではこのモデルが時系列分析におけるARモデルと類似していることに着目して予測精度の比較を行っており、RNNモデルはARモデルと同等の予測精度を出している。\n",
        "\n",
        "私はこの類似手法の比較が、例えばARIMAのような他の時系列モデルとの間でも可能なのではないかということを考えた。\n",
        "\n",
        "## 背景\n",
        "\n",
        "「第3次AIブーム」とも呼ばれる近年の人工知能の発展により、社会の様々な場面で機械学習、とりわけニューラルネットワークを用いたデータの分析が行われるようになってきている。しかし、経済学の分野においてはデータの分析には従来の統計学的手法が多く用いられ、深層学習が用いられることは少ない。実際に、経済データに対して深層学習をする先行研究を探すと、その多くが工学分野のものであった。\n",
        "\n",
        "## 目的\n",
        "\n",
        "1. 経済データに対して、経済学で一般に用いられるモデルと深層学習を用いたモデルで予測を行い、その結果を比較する。\n",
        "1. 経済学的モデルと深層学習の比較考察を行う。\n",
        "1. 経済学的モデルに含まれる要素を考慮した深層学習モデルを作成し、予測精度の改善を図る。\n"
      ],
      "metadata": {
        "id": "LksZnRDB61XS"
      }
    },
    {
      "cell_type": "markdown",
      "source": [
        "## 参考\n",
        "\n",
        "機械学習・深層学習・計量経済学に関する先行研究の整理\n",
        "\n",
        "<https://papers.ssrn.com/sol3/Delivery.cfm/SSRN_ID3530417_code3404761.pdf?abstractid=3530417&mirid=1&type=2>\n",
        "\n",
        "An Introduction to Statistical Learning\n",
        "\n",
        "<https://hastie.su.domains/ISLR2/ISLRv2_website.pdf>\n",
        "\n",
        "\n"
      ],
      "metadata": {
        "id": "WqrLEVj26Qyl"
      }
    }
  ]
}