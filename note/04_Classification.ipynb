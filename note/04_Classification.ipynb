{
  "nbformat": 4,
  "nbformat_minor": 0,
  "metadata": {
    "colab": {
      "name": "04_Classification.ipynb",
      "provenance": [],
      "authorship_tag": "ABX9TyNz6u2bLpHXrAaLAWVe1qVd",
      "include_colab_link": true
    },
    "kernelspec": {
      "name": "python3",
      "display_name": "Python 3"
    },
    "language_info": {
      "name": "python"
    }
  },
  "cells": [
    {
      "cell_type": "markdown",
      "metadata": {
        "id": "view-in-github",
        "colab_type": "text"
      },
      "source": [
        "<a href=\"https://colab.research.google.com/github/bayashi-cl/statistical-learning/blob/main/note/04_Classification.ipynb\" target=\"_parent\"><img src=\"https://colab.research.google.com/assets/colab-badge.svg\" alt=\"Open In Colab\"/></a>"
      ]
    },
    {
      "cell_type": "code",
      "source": [
        "import pandas as pd\n",
        "import numpy as np\n",
        "from sklearn.linear_model import LogisticRegression\n",
        "from sklearn.datasets import load_iris\n",
        "from statsmodels.formula.api import logit\n",
        "from mlxtend.plotting import plot_decision_regions\n",
        "import matplotlib.pyplot as plt\n",
        "import seaborn as sns\n",
        "\n",
        "sns.set()"
      ],
      "metadata": {
        "id": "_SSHTLPY6A-F"
      },
      "execution_count": 19,
      "outputs": []
    },
    {
      "cell_type": "code",
      "source": [
        "%load_ext rpy2.ipython"
      ],
      "metadata": {
        "id": "3k5QdlFL2xMU"
      },
      "execution_count": 2,
      "outputs": []
    },
    {
      "cell_type": "code",
      "source": [
        "%%R\n",
        "install.packages(\"ISLR2\")\n",
        "library(ISLR2)"
      ],
      "metadata": {
        "id": "EF6gpnF95Wbu"
      },
      "execution_count": null,
      "outputs": []
    },
    {
      "cell_type": "code",
      "source": [
        "%%R -o default\n",
        "default <- ISLR2::Default\n",
        "summary(default)"
      ],
      "metadata": {
        "colab": {
          "base_uri": "https://localhost:8080/"
        },
        "id": "GiqHNwV63-Cy",
        "outputId": "2fa56175-0b32-42a8-8258-fe487ae8b769"
      },
      "execution_count": 6,
      "outputs": [
        {
          "output_type": "stream",
          "name": "stdout",
          "text": [
            " default    student       balance           income     \n",
            " No :9667   No :7056   Min.   :   0.0   Min.   :  772  \n",
            " Yes: 333   Yes:2944   1st Qu.: 481.7   1st Qu.:21340  \n",
            "                       Median : 823.6   Median :34553  \n",
            "                       Mean   : 835.4   Mean   :33517  \n",
            "                       3rd Qu.:1166.3   3rd Qu.:43808  \n",
            "                       Max.   :2654.3   Max.   :73554  \n"
          ]
        }
      ]
    },
    {
      "cell_type": "markdown",
      "source": [
        "# 4 分類\n",
        "\n",
        "## 4.1 概要\n",
        "\n",
        "この章では次のような分類問題を考える。\n",
        "\n",
        "1. 救急処置室に来た患者がどんな状態か\n",
        "1. オンライン銀行で行われている取引は適切か\n",
        "1. どのようなDNAが病気の原因となるか\n"
      ],
      "metadata": {
        "id": "TRfqwQmTnx_X"
      }
    },
    {
      "cell_type": "markdown",
      "source": [
        "## 4.2 線形回帰との比較\n",
        "\n",
        "救急処置室に来た患者が`心臓発作`、`薬物中毒`、`てんかん`のどれに該当するかを分類したい。しかし、仮に目的変数を\n",
        "\n",
        "$$\n",
        "Y=\n",
        "\\begin{cases}\n",
        "  1 & 心臓発作\\\\\n",
        "  2 & 薬物中毒\\\\\n",
        "  3 & てんかん\n",
        "\\end{cases}\n",
        "$$\n",
        "\n",
        "のように設定してしまうと、要素の間に「順序」を生じさせてしまう。\n",
        "\n",
        "つぎに2値分類\n",
        "\n",
        "$$\n",
        "Y=\n",
        "\\begin{cases}\n",
        "  0 & 心臓発作\\\\\n",
        "  1 & 薬物中毒\n",
        "\\end{cases}\n",
        "$$\n",
        "\n",
        "を考える。この場合は線形回帰を用いた予測値 $\\hat{Y}$ が0.5を超えれば薬物中毒、そうでなければ心臓発作と判定することができる。ただ、線形回帰の場合は予測値が実数全体をとり得るので、確率として解釈するのが難しい。\n",
        "\n",
        "まとめると分類問題に線形回帰を適用すると\n",
        "\n",
        "* 3クラス以上の質的変数を扱えない\n",
        "* 2クラスの場合も予測値がほとんど意味を持たない。\n",
        "\n",
        "という問題が生じる。"
      ],
      "metadata": {
        "id": "NyQUBVbWrSGh"
      }
    },
    {
      "cell_type": "markdown",
      "source": [
        "## 4.3 ロジスティック回帰\n",
        "\n",
        "ここでは`balance`データセットを用いて債務の量からが債務不履行に陥る確率を予測する。\n",
        "\n",
        "$$\\textrm{Pr}(\\textrm{default}=\\textrm{Yes}|\\textrm{balance})$$\n",
        "を単に $p(\\textrm{balance})$ とする。\n",
        "\n",
        "### 4.3.1 ロジスティックモデル\n",
        "\n",
        "値域が $[0, 1]$ のうち、 **ロジスティック関数**\n",
        "\n",
        "$$p(X) = \\frac{e^{\\beta_0+\\beta_1X}}{1+e^{\\beta_0+\\beta_1X}}$$\n",
        "\n",
        "を使う。この式を変形する。\n",
        "\n",
        "$$\\frac{p(X)}{1-p(X)} = e^{\\beta_0+\\beta_1X}$$\n",
        "\n",
        "この式の左辺は**オッズ**と呼ばれていて、 $[0,\\infty]$ をとる。\n",
        "\n",
        "さらに、両辺の対数を取ると\n",
        "\n",
        "$$\\log{\\left(\\frac{p(X)}{1-p(X)}\\right)} = \\beta_0+\\beta_1X$$\n",
        "\n",
        "となり、左辺は**ロジット**と呼ばれている"
      ],
      "metadata": {
        "id": "fwCw27gWwL0P"
      }
    },
    {
      "cell_type": "code",
      "source": [
        "default = pd.get_dummies(default, columns=[\"default\", \"student\"], drop_first=True)\n",
        "default.describe()"
      ],
      "metadata": {
        "id": "bL8SZBP95ZWr",
        "outputId": "4e560c5b-c793-4ef8-85b8-e5dd65e3269f",
        "colab": {
          "base_uri": "https://localhost:8080/",
          "height": 300
        }
      },
      "execution_count": 7,
      "outputs": [
        {
          "output_type": "execute_result",
          "data": {
            "text/html": [
              "\n",
              "  <div id=\"df-a0e67ad5-9514-4871-9f82-459c18ca7eb5\">\n",
              "    <div class=\"colab-df-container\">\n",
              "      <div>\n",
              "<style scoped>\n",
              "    .dataframe tbody tr th:only-of-type {\n",
              "        vertical-align: middle;\n",
              "    }\n",
              "\n",
              "    .dataframe tbody tr th {\n",
              "        vertical-align: top;\n",
              "    }\n",
              "\n",
              "    .dataframe thead th {\n",
              "        text-align: right;\n",
              "    }\n",
              "</style>\n",
              "<table border=\"1\" class=\"dataframe\">\n",
              "  <thead>\n",
              "    <tr style=\"text-align: right;\">\n",
              "      <th></th>\n",
              "      <th>balance</th>\n",
              "      <th>income</th>\n",
              "      <th>default_Yes</th>\n",
              "      <th>student_Yes</th>\n",
              "    </tr>\n",
              "  </thead>\n",
              "  <tbody>\n",
              "    <tr>\n",
              "      <th>count</th>\n",
              "      <td>10000.000000</td>\n",
              "      <td>10000.000000</td>\n",
              "      <td>10000.000000</td>\n",
              "      <td>10000.000000</td>\n",
              "    </tr>\n",
              "    <tr>\n",
              "      <th>mean</th>\n",
              "      <td>835.374886</td>\n",
              "      <td>33516.981876</td>\n",
              "      <td>0.033300</td>\n",
              "      <td>0.294400</td>\n",
              "    </tr>\n",
              "    <tr>\n",
              "      <th>std</th>\n",
              "      <td>483.714985</td>\n",
              "      <td>13336.639563</td>\n",
              "      <td>0.179428</td>\n",
              "      <td>0.455795</td>\n",
              "    </tr>\n",
              "    <tr>\n",
              "      <th>min</th>\n",
              "      <td>0.000000</td>\n",
              "      <td>771.967729</td>\n",
              "      <td>0.000000</td>\n",
              "      <td>0.000000</td>\n",
              "    </tr>\n",
              "    <tr>\n",
              "      <th>25%</th>\n",
              "      <td>481.731105</td>\n",
              "      <td>21340.462903</td>\n",
              "      <td>0.000000</td>\n",
              "      <td>0.000000</td>\n",
              "    </tr>\n",
              "    <tr>\n",
              "      <th>50%</th>\n",
              "      <td>823.636973</td>\n",
              "      <td>34552.644802</td>\n",
              "      <td>0.000000</td>\n",
              "      <td>0.000000</td>\n",
              "    </tr>\n",
              "    <tr>\n",
              "      <th>75%</th>\n",
              "      <td>1166.308386</td>\n",
              "      <td>43807.729272</td>\n",
              "      <td>0.000000</td>\n",
              "      <td>1.000000</td>\n",
              "    </tr>\n",
              "    <tr>\n",
              "      <th>max</th>\n",
              "      <td>2654.322576</td>\n",
              "      <td>73554.233495</td>\n",
              "      <td>1.000000</td>\n",
              "      <td>1.000000</td>\n",
              "    </tr>\n",
              "  </tbody>\n",
              "</table>\n",
              "</div>\n",
              "      <button class=\"colab-df-convert\" onclick=\"convertToInteractive('df-a0e67ad5-9514-4871-9f82-459c18ca7eb5')\"\n",
              "              title=\"Convert this dataframe to an interactive table.\"\n",
              "              style=\"display:none;\">\n",
              "        \n",
              "  <svg xmlns=\"http://www.w3.org/2000/svg\" height=\"24px\"viewBox=\"0 0 24 24\"\n",
              "       width=\"24px\">\n",
              "    <path d=\"M0 0h24v24H0V0z\" fill=\"none\"/>\n",
              "    <path d=\"M18.56 5.44l.94 2.06.94-2.06 2.06-.94-2.06-.94-.94-2.06-.94 2.06-2.06.94zm-11 1L8.5 8.5l.94-2.06 2.06-.94-2.06-.94L8.5 2.5l-.94 2.06-2.06.94zm10 10l.94 2.06.94-2.06 2.06-.94-2.06-.94-.94-2.06-.94 2.06-2.06.94z\"/><path d=\"M17.41 7.96l-1.37-1.37c-.4-.4-.92-.59-1.43-.59-.52 0-1.04.2-1.43.59L10.3 9.45l-7.72 7.72c-.78.78-.78 2.05 0 2.83L4 21.41c.39.39.9.59 1.41.59.51 0 1.02-.2 1.41-.59l7.78-7.78 2.81-2.81c.8-.78.8-2.07 0-2.86zM5.41 20L4 18.59l7.72-7.72 1.47 1.35L5.41 20z\"/>\n",
              "  </svg>\n",
              "      </button>\n",
              "      \n",
              "  <style>\n",
              "    .colab-df-container {\n",
              "      display:flex;\n",
              "      flex-wrap:wrap;\n",
              "      gap: 12px;\n",
              "    }\n",
              "\n",
              "    .colab-df-convert {\n",
              "      background-color: #E8F0FE;\n",
              "      border: none;\n",
              "      border-radius: 50%;\n",
              "      cursor: pointer;\n",
              "      display: none;\n",
              "      fill: #1967D2;\n",
              "      height: 32px;\n",
              "      padding: 0 0 0 0;\n",
              "      width: 32px;\n",
              "    }\n",
              "\n",
              "    .colab-df-convert:hover {\n",
              "      background-color: #E2EBFA;\n",
              "      box-shadow: 0px 1px 2px rgba(60, 64, 67, 0.3), 0px 1px 3px 1px rgba(60, 64, 67, 0.15);\n",
              "      fill: #174EA6;\n",
              "    }\n",
              "\n",
              "    [theme=dark] .colab-df-convert {\n",
              "      background-color: #3B4455;\n",
              "      fill: #D2E3FC;\n",
              "    }\n",
              "\n",
              "    [theme=dark] .colab-df-convert:hover {\n",
              "      background-color: #434B5C;\n",
              "      box-shadow: 0px 1px 3px 1px rgba(0, 0, 0, 0.15);\n",
              "      filter: drop-shadow(0px 1px 2px rgba(0, 0, 0, 0.3));\n",
              "      fill: #FFFFFF;\n",
              "    }\n",
              "  </style>\n",
              "\n",
              "      <script>\n",
              "        const buttonEl =\n",
              "          document.querySelector('#df-a0e67ad5-9514-4871-9f82-459c18ca7eb5 button.colab-df-convert');\n",
              "        buttonEl.style.display =\n",
              "          google.colab.kernel.accessAllowed ? 'block' : 'none';\n",
              "\n",
              "        async function convertToInteractive(key) {\n",
              "          const element = document.querySelector('#df-a0e67ad5-9514-4871-9f82-459c18ca7eb5');\n",
              "          const dataTable =\n",
              "            await google.colab.kernel.invokeFunction('convertToInteractive',\n",
              "                                                     [key], {});\n",
              "          if (!dataTable) return;\n",
              "\n",
              "          const docLinkHtml = 'Like what you see? Visit the ' +\n",
              "            '<a target=\"_blank\" href=https://colab.research.google.com/notebooks/data_table.ipynb>data table notebook</a>'\n",
              "            + ' to learn more about interactive tables.';\n",
              "          element.innerHTML = '';\n",
              "          dataTable['output_type'] = 'display_data';\n",
              "          await google.colab.output.renderOutput(dataTable, element);\n",
              "          const docLink = document.createElement('div');\n",
              "          docLink.innerHTML = docLinkHtml;\n",
              "          element.appendChild(docLink);\n",
              "        }\n",
              "      </script>\n",
              "    </div>\n",
              "  </div>\n",
              "  "
            ],
            "text/plain": [
              "            balance        income   default_Yes   student_Yes\n",
              "count  10000.000000  10000.000000  10000.000000  10000.000000\n",
              "mean     835.374886  33516.981876      0.033300      0.294400\n",
              "std      483.714985  13336.639563      0.179428      0.455795\n",
              "min        0.000000    771.967729      0.000000      0.000000\n",
              "25%      481.731105  21340.462903      0.000000      0.000000\n",
              "50%      823.636973  34552.644802      0.000000      0.000000\n",
              "75%     1166.308386  43807.729272      0.000000      1.000000\n",
              "max     2654.322576  73554.233495      1.000000      1.000000"
            ]
          },
          "metadata": {},
          "execution_count": 7
        }
      ]
    },
    {
      "cell_type": "code",
      "source": [
        "X = default[[\"balance\"]]\n",
        "y = default[\"default_Yes\"]\n",
        "\n",
        "# 学習(scikit-learn)\n",
        "lr = LogisticRegression()\n",
        "lr.fit(X, y)"
      ],
      "metadata": {
        "colab": {
          "base_uri": "https://localhost:8080/"
        },
        "id": "gIzcB0378sxw",
        "outputId": "cf2e76fd-d49b-448c-cb9d-29524e889156"
      },
      "execution_count": 8,
      "outputs": [
        {
          "output_type": "execute_result",
          "data": {
            "text/plain": [
              "LogisticRegression()"
            ]
          },
          "metadata": {},
          "execution_count": 8
        }
      ]
    },
    {
      "cell_type": "code",
      "source": [
        "reg_X = np.linspace(default[\"balance\"].min(), default[\"balance\"].max(), 100).reshape((-1, 1))\n",
        "plt.scatter(X, y)\n",
        "plt.plot(reg_X, lr.predict_proba(reg_X)[:,1], color=\"orange\")\n",
        "plt.xlabel(\"Balance\")\n",
        "plt.ylabel(\"Probability of Default\")\n",
        "plt.show()"
      ],
      "metadata": {
        "colab": {
          "base_uri": "https://localhost:8080/",
          "height": 322
        },
        "id": "WEmTE_2R9LHN",
        "outputId": "dca72691-0c75-46bd-8c8a-bd74de0f1aab"
      },
      "execution_count": 9,
      "outputs": [
        {
          "output_type": "stream",
          "name": "stderr",
          "text": [
            "/usr/local/lib/python3.7/dist-packages/sklearn/base.py:446: UserWarning: X does not have valid feature names, but LogisticRegression was fitted with feature names\n",
            "  \"X does not have valid feature names, but\"\n"
          ]
        },
        {
          "output_type": "display_data",
          "data": {
            "image/png": "[encoded data removed]",
            "text/plain": [
              "<Figure size 432x288 with 1 Axes>"
            ]
          },
          "metadata": {
            "needs_background": "light"
          }
        }
      ]
    },
    {
      "cell_type": "markdown",
      "source": [
        "### 4.3.2 回帰係数の推定\n",
        "\n",
        "パラメーターの推定には最尤法を用いる。すなわち、尤度関数\n",
        "\n",
        "$$l(\\beta_0, \\beta_1) = \\prod_{i:y_i=1}p(x_i)\\prod_{i':y_{i'}=0}(1-p(x_{i'}))$$\n",
        "\n",
        "を最大化するパラメータが選ばれる。\n",
        "\n"
      ],
      "metadata": {
        "id": "bW8zMD3cDMpU"
      }
    },
    {
      "cell_type": "code",
      "source": [
        "model_balance = logit(formula=\"default_Yes ~ balance\", data=default).fit()\n",
        "print(model_balance.summary())"
      ],
      "metadata": {
        "colab": {
          "base_uri": "https://localhost:8080/"
        },
        "id": "FpYIjjKLGfTk",
        "outputId": "9e33e8f9-75fe-4e70-cec4-79394656694c"
      },
      "execution_count": 10,
      "outputs": [
        {
          "output_type": "stream",
          "name": "stdout",
          "text": [
            "Optimization terminated successfully.\n",
            "         Current function value: 0.079823\n",
            "         Iterations 10\n",
            "                           Logit Regression Results                           \n",
            "==============================================================================\n",
            "Dep. Variable:            default_Yes   No. Observations:                10000\n",
            "Model:                          Logit   Df Residuals:                     9998\n",
            "Method:                           MLE   Df Model:                            1\n",
            "Date:                Mon, 27 Dec 2021   Pseudo R-squ.:                  0.4534\n",
            "Time:                        04:58:06   Log-Likelihood:                -798.23\n",
            "converged:                       True   LL-Null:                       -1460.3\n",
            "Covariance Type:            nonrobust   LLR p-value:                6.233e-290\n",
            "==============================================================================\n",
            "                 coef    std err          z      P>|z|      [0.025      0.975]\n",
            "------------------------------------------------------------------------------\n",
            "Intercept    -10.6513      0.361    -29.491      0.000     -11.359      -9.943\n",
            "balance        0.0055      0.000     24.952      0.000       0.005       0.006\n",
            "==============================================================================\n",
            "\n",
            "Possibly complete quasi-separation: A fraction 0.13 of observations can be\n",
            "perfectly predicted. This might indicate that there is complete\n",
            "quasi-separation. In this case some parameters will not be identified.\n"
          ]
        }
      ]
    },
    {
      "cell_type": "code",
      "source": [
        "model_student = logit(formula=\"default_Yes ~ student_Yes\", data=default).fit()\n",
        "print(model_student.summary())"
      ],
      "metadata": {
        "colab": {
          "base_uri": "https://localhost:8080/"
        },
        "id": "MiNOy30oMFG4",
        "outputId": "0e8f1ac8-0e49-48d6-bf7e-4b332a34fd37"
      },
      "execution_count": 11,
      "outputs": [
        {
          "output_type": "stream",
          "name": "stdout",
          "text": [
            "Optimization terminated successfully.\n",
            "         Current function value: 0.145434\n",
            "         Iterations 7\n",
            "                           Logit Regression Results                           \n",
            "==============================================================================\n",
            "Dep. Variable:            default_Yes   No. Observations:                10000\n",
            "Model:                          Logit   Df Residuals:                     9998\n",
            "Method:                           MLE   Df Model:                            1\n",
            "Date:                Mon, 27 Dec 2021   Pseudo R-squ.:                0.004097\n",
            "Time:                        04:58:07   Log-Likelihood:                -1454.3\n",
            "converged:                       True   LL-Null:                       -1460.3\n",
            "Covariance Type:            nonrobust   LLR p-value:                 0.0005416\n",
            "===============================================================================\n",
            "                  coef    std err          z      P>|z|      [0.025      0.975]\n",
            "-------------------------------------------------------------------------------\n",
            "Intercept      -3.5041      0.071    -49.554      0.000      -3.643      -3.366\n",
            "student_Yes     0.4049      0.115      3.520      0.000       0.179       0.630\n",
            "===============================================================================\n"
          ]
        }
      ]
    },
    {
      "cell_type": "markdown",
      "source": [
        "ここでの**z値**が回帰でのt値に相当する"
      ],
      "metadata": {
        "id": "AJIBUbRbIKXO"
      }
    },
    {
      "cell_type": "markdown",
      "source": [
        "### 4.3.3 予測\n",
        "\n",
        "### 4.3.4 多変量ロジスティック回帰\n",
        "\n",
        "重回帰の場合と同様に多変量に拡張する\n",
        "\n",
        "$$p(X) = \\frac{e^{\\beta_0+\\beta_1X_1+\\cdots+\\beta_pX_p}}{1+e^{\\beta_0+\\beta_1X_1+\\cdots+\\beta_pX_p}}$$\n",
        "\n",
        "$$\\log{\\left(\\frac{p(X)}{1-p(X)}\\right)} = \\beta_0+\\beta_1X_1+\\cdots+\\beta_pX_p$$"
      ],
      "metadata": {
        "id": "EClgUGOaJG06"
      }
    },
    {
      "cell_type": "code",
      "source": [
        "model_multi = logit(formula=\"default_Yes ~ balance + income + student_Yes\", data=default).fit()\n",
        "print(model_multi.summary())"
      ],
      "metadata": {
        "colab": {
          "base_uri": "https://localhost:8080/"
        },
        "id": "Prb1aSDcMRRa",
        "outputId": "dd719c37-75fb-4027-971b-28889a5d86be"
      },
      "execution_count": 12,
      "outputs": [
        {
          "output_type": "stream",
          "name": "stdout",
          "text": [
            "Optimization terminated successfully.\n",
            "         Current function value: 0.078577\n",
            "         Iterations 10\n",
            "                           Logit Regression Results                           \n",
            "==============================================================================\n",
            "Dep. Variable:            default_Yes   No. Observations:                10000\n",
            "Model:                          Logit   Df Residuals:                     9996\n",
            "Method:                           MLE   Df Model:                            3\n",
            "Date:                Mon, 27 Dec 2021   Pseudo R-squ.:                  0.4619\n",
            "Time:                        04:58:07   Log-Likelihood:                -785.77\n",
            "converged:                       True   LL-Null:                       -1460.3\n",
            "Covariance Type:            nonrobust   LLR p-value:                3.257e-292\n",
            "===============================================================================\n",
            "                  coef    std err          z      P>|z|      [0.025      0.975]\n",
            "-------------------------------------------------------------------------------\n",
            "Intercept     -10.8690      0.492    -22.079      0.000     -11.834      -9.904\n",
            "balance         0.0057      0.000     24.737      0.000       0.005       0.006\n",
            "income       3.033e-06    8.2e-06      0.370      0.712    -1.3e-05    1.91e-05\n",
            "student_Yes    -0.6468      0.236     -2.738      0.006      -1.110      -0.184\n",
            "===============================================================================\n",
            "\n",
            "Possibly complete quasi-separation: A fraction 0.15 of observations can be\n",
            "perfectly predicted. This might indicate that there is complete\n",
            "quasi-separation. In this case some parameters will not be identified.\n"
          ]
        }
      ]
    },
    {
      "cell_type": "markdown",
      "source": [
        "`student`に注目すると、p値がどちらも小さいのにも関わらず、回帰係数が1変数の場合が正なのに対して多変量の場合は負になっている。\n",
        "\n",
        "1変量の係数が正であるということは単に学生の方が債務不履行に陥った人の割合が高いことを表している。\n",
        "\n",
        "多変量の係数が負であるということは、債務と収入の値が一定なら、学生の方が債務不履行に陥る確率が低いことを表している。"
      ],
      "metadata": {
        "id": "fs1MJQSdQQhj"
      }
    },
    {
      "cell_type": "code",
      "source": [
        "dysy = len(default[(default[\"default_Yes\"]==1) & (default[\"student_Yes\"]==1)]) \n",
        "sy = len(default[default[\"student_Yes\"]==1])\n",
        "p_sy = dysy / sy\n",
        "print(f\"p(student = Yes) = {p_sy:.5f}\")\n",
        "\n",
        "dysn = len(default[(default[\"default_Yes\"]==1) & (default[\"student_Yes\"]==0)]) \n",
        "sn = len(default[default[\"student_Yes\"]==0])\n",
        "p_sn = dysn / sn\n",
        "print(f\"p(student = No ) = {p_sn:.5f}\")"
      ],
      "metadata": {
        "colab": {
          "base_uri": "https://localhost:8080/"
        },
        "id": "gdzEHBQLUEiT",
        "outputId": "ec094e02-c423-40d8-cd12-cd14be630d4b"
      },
      "execution_count": 13,
      "outputs": [
        {
          "output_type": "stream",
          "name": "stdout",
          "text": [
            "p(student = Yes) = 0.04314\n",
            "p(student = No ) = 0.02920\n"
          ]
        }
      ]
    },
    {
      "cell_type": "code",
      "source": [
        "# 負債と学生の2変数\n",
        "X = default[[\"balance\", \"student_Yes\"]]\n",
        "y = default[\"default_Yes\"]\n",
        "lr_bs = LogisticRegression()\n",
        "lr_bs.fit(X, y)\n",
        "\n",
        "X_sy = default[[\"balance\", \"student_Yes\"]][default[\"student_Yes\"] == 1].sort_values(by=\"balance\")\n",
        "plt.plot(X_sy[\"balance\"], lr_bs.predict_proba(X_sy)[:,1], label=\"student Yes\")\n",
        "X_sy = default[[\"balance\", \"student_Yes\"]][default[\"student_Yes\"] == 0].sort_values(by=\"balance\")\n",
        "plt.plot(X_sy[\"balance\"], lr_bs.predict_proba(X_sy)[:,1], label=\"student No\")\n",
        "plt.xlabel(\"Balance\")\n",
        "plt.ylabel(\"Probability of Default\")\n",
        "plt.legend()\n",
        "plt.show()"
      ],
      "metadata": {
        "colab": {
          "base_uri": "https://localhost:8080/",
          "height": 285
        },
        "id": "gMfAaTgcbU0S",
        "outputId": "6ea91767-f67e-4f77-c483-b0cf6f143adc"
      },
      "execution_count": 14,
      "outputs": [
        {
          "output_type": "display_data",
          "data": {
            "image/png": "[encoded data removed]",
            "text/plain": [
              "<Figure size 432x288 with 1 Axes>"
            ]
          },
          "metadata": {
            "needs_background": "light"
          }
        }
      ]
    },
    {
      "cell_type": "markdown",
      "source": [
        "これは`student`と`balance`の間に相関関係があるためで、学生のほうが多くの負債を抱える傾向があり、それによって債務不履行に陥る確率が高くなっている。\n",
        "\n",
        "このような現象は**交絡**と呼ばれ、他の説明変数の関連が考えられる場合に単回帰をすると発生する可能性がある。"
      ],
      "metadata": {
        "id": "gwR7aQyEjU39"
      }
    },
    {
      "cell_type": "markdown",
      "source": [
        "### 4.3.5 多クラス分類\n",
        "\n",
        "多クラスの分類では、まず基準となるクラスを定め、そのクラスに対するオッズを計算する。\n",
        "\n",
        "回帰係数はどのクラスを基準とするかによって異なってくるが、予測値はどのクラスを基準にとっても同一のものとなる。\n",
        "\n",
        "すべてのクラスを対称に扱う手法としては**ソフトマックス関数**を用いるものがある。\n",
        "\n"
      ],
      "metadata": {
        "id": "Xxpom8KmlChr"
      }
    },
    {
      "cell_type": "code",
      "source": [
        "iris = load_iris()\n",
        "print(iris.DESCR)"
      ],
      "metadata": {
        "id": "HNnW2XIcPs6V"
      },
      "execution_count": 21,
      "outputs": []
    },
    {
      "cell_type": "code",
      "source": [
        "# 学習\n",
        "X = iris.data[:, [0, 2]]\n",
        "y = iris.target\n",
        "\n",
        "model_iris = LogisticRegression(max_iter=1000)\n",
        "model_iris.fit(X, y)"
      ],
      "metadata": {
        "id": "A56be-nYSdu2"
      },
      "execution_count": null,
      "outputs": []
    },
    {
      "cell_type": "code",
      "source": [
        "# 分類境界をプロット\n",
        "ax = plot_decision_regions(X, y, clf=model_iris, legend=2)\n",
        "\n",
        "plt.xlabel('sepal length [cm]')\n",
        "plt.ylabel('petal length [cm]')\n",
        "handles, labels = ax.get_legend_handles_labels()\n",
        "ax.legend(handles, \n",
        "          iris.target_names, \n",
        "           framealpha=0.3, scatterpoints=1)\n",
        "\n",
        "plt.show()"
      ],
      "metadata": {
        "id": "BchKOnvfT-3T",
        "outputId": "2aa12630-de08-4bfd-aa26-718cc392fb61",
        "colab": {
          "base_uri": "https://localhost:8080/",
          "height": 322
        }
      },
      "execution_count": 29,
      "outputs": [
        {
          "output_type": "stream",
          "name": "stderr",
          "text": [
            "/usr/local/lib/python3.7/dist-packages/mlxtend/plotting/decision_regions.py:244: MatplotlibDeprecationWarning: Passing unsupported keyword arguments to axis() will raise a TypeError in 3.3.\n",
            "  ax.axis(xmin=xx.min(), xmax=xx.max(), y_min=yy.min(), y_max=yy.max())\n"
          ]
        },
        {
          "output_type": "display_data",
          "data": {
            "image/png": "[encoded data removed]",
            "text/plain": [
              "<Figure size 432x288 with 1 Axes>"
            ]
          },
          "metadata": {}
        }
      ]
    }
  ]
}