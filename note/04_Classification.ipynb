{
  "nbformat": 4,
  "nbformat_minor": 0,
  "metadata": {
    "colab": {
      "name": "04_Classification.ipynb",
      "provenance": [],
      "authorship_tag": "ABX9TyPy1XFvtKnE+8pyQ6nIb7Iw",
      "include_colab_link": true
    },
    "kernelspec": {
      "name": "python3",
      "display_name": "Python 3"
    },
    "language_info": {
      "name": "python"
    }
  },
  "cells": [
    {
      "cell_type": "markdown",
      "metadata": {
        "id": "view-in-github",
        "colab_type": "text"
      },
      "source": [
        "<a href=\"https://colab.research.google.com/github/bayashi-cl/statistical-learning/blob/main/note/04_Classification.ipynb\" target=\"_parent\"><img src=\"https://colab.research.google.com/assets/colab-badge.svg\" alt=\"Open In Colab\"/></a>"
      ]
    },
    {
      "cell_type": "code",
      "source": [
        "import pandas as pd\n",
        "import numpy as np\n",
        "from sklearn.linear_model import LogisticRegression\n",
        "from statsmodels.formula.api import logit\n",
        "import matplotlib.pyplot as plt\n",
        "import seaborn as sns\n",
        "\n",
        "sns.set()"
      ],
      "metadata": {
        "id": "_SSHTLPY6A-F"
      },
      "execution_count": 37,
      "outputs": []
    },
    {
      "cell_type": "code",
      "source": [
        "%load_ext rpy2.ipython"
      ],
      "metadata": {
        "id": "3k5QdlFL2xMU"
      },
      "execution_count": 1,
      "outputs": []
    },
    {
      "cell_type": "code",
      "source": [
        "%%R -o default\n",
        "install.packages(\"ISLR2\")\n",
        "library(ISLR2)"
      ],
      "metadata": {
        "id": "EF6gpnF95Wbu"
      },
      "execution_count": null,
      "outputs": []
    },
    {
      "cell_type": "code",
      "source": [
        "%%R -o default\n",
        "default<- ISLR2::Default\n",
        "summary(default)"
      ],
      "metadata": {
        "colab": {
          "base_uri": "https://localhost:8080/"
        },
        "id": "GiqHNwV63-Cy",
        "outputId": "10ce3955-836c-41dc-9d0b-451c48bf34d5"
      },
      "execution_count": 9,
      "outputs": [
        {
          "output_type": "stream",
          "name": "stdout",
          "text": [
            " default    student       balance           income     \n",
            " No :9667   No :7056   Min.   :   0.0   Min.   :  772  \n",
            " Yes: 333   Yes:2944   1st Qu.: 481.7   1st Qu.:21340  \n",
            "                       Median : 823.6   Median :34553  \n",
            "                       Mean   : 835.4   Mean   :33517  \n",
            "                       3rd Qu.:1166.3   3rd Qu.:43808  \n",
            "                       Max.   :2654.3   Max.   :73554  \n"
          ]
        }
      ]
    },
    {
      "cell_type": "markdown",
      "source": [
        "# 4 分類\n",
        "\n",
        "## 4.1 概要\n",
        "\n",
        "この章では次のような分類問題を考える。\n",
        "\n",
        "1. 救急処置室に来た患者がどんな状態か\n",
        "1. オンライン銀行で行われている取引は適切か\n",
        "1. どのようなDNAが病気の原因となるか\n"
      ],
      "metadata": {
        "id": "TRfqwQmTnx_X"
      }
    },
    {
      "cell_type": "markdown",
      "source": [
        "## 4.2 線形回帰との比較\n",
        "\n",
        "救急処置室に来た患者が`心臓発作`、`薬物中毒`、`てんかん`のどれに該当するかを分類したい。しかし、仮に目的変数を\n",
        "\n",
        "$$\n",
        "Y=\n",
        "\\begin{cases}\n",
        "  1 & 心臓発作\\\\\n",
        "  2 & 薬物中毒\\\\\n",
        "  3 & てんかん\n",
        "\\end{cases}\n",
        "$$\n",
        "\n",
        "のように設定してしまうと、要素の間に「順序」を生じさせてしまう。\n",
        "\n",
        "つぎに2値分類\n",
        "\n",
        "$$\n",
        "Y=\n",
        "\\begin{cases}\n",
        "  0 & 心臓発作\\\\\n",
        "  1 & 薬物中毒\n",
        "\\end{cases}\n",
        "$$\n",
        "\n",
        "を考える。この場合は線形回帰を用いた予測値 $\\hat{Y}$ が0.5を超えれば薬物中毒、そうでなければ心臓発作と判定することができる。ただ、線形回帰の場合は予測値が実数全体をとり得るので、確率として解釈するのが難しい。\n",
        "\n",
        "まとめると分類問題に線形回帰を適用すると\n",
        "\n",
        "* 3クラス以上の質的変数を扱えない\n",
        "* 2クラスの場合も予測値がほとんど意味を持たない。\n",
        "\n",
        "という問題が生じる。"
      ],
      "metadata": {
        "id": "NyQUBVbWrSGh"
      }
    },
    {
      "cell_type": "markdown",
      "source": [
        "## 4.3 ロジスティック回帰\n",
        "\n",
        "ここでは`balance`データセットを用いて債務の量からが債務不履行に陥る確率を予測する。\n",
        "\n",
        "$$\\textrm{Pr}(\\textrm{default}=\\textrm{Yes}|\\textrm{balance})$$\n",
        "を単に $p(\\textrm{balance})$ とする。\n",
        "\n",
        "### 4.3.1 ロジスティックモデル\n",
        "\n",
        "値域が $[0, 1]$ のうち、 **ロジスティック関数**\n",
        "\n",
        "$$p(X) = \\frac{e^{\\beta_0+\\beta_1X}}{1+e^{\\beta_0+\\beta_1X}}$$\n",
        "\n",
        "を使う。この式を変形する。\n",
        "\n",
        "$$\\frac{p(X)}{1-p(X)} = e^{\\beta_0+\\beta_1X}$$\n",
        "\n",
        "この式の左辺は**オッズ**と呼ばれていて、 $[0,\\infty]$ をとる。\n",
        "\n",
        "さらに、両辺の対数を取ると\n",
        "\n",
        "$$\\log{\\left(\\frac{p(X)}{1-p(X)}\\right)} = \\beta_0+\\beta_1X$$\n",
        "\n",
        "となり、左辺は**ロジット**と呼ばれている"
      ],
      "metadata": {
        "id": "fwCw27gWwL0P"
      }
    },
    {
      "cell_type": "code",
      "source": [
        "default = pd.get_dummies(default, columns=[\"default\", \"student\"], drop_first=True)\n",
        "default.describe()"
      ],
      "metadata": {
        "id": "bL8SZBP95ZWr"
      },
      "execution_count": 10,
      "outputs": []
    },
    {
      "cell_type": "code",
      "source": [
        "X = default[[\"balance\"]]\n",
        "y = default[\"default_Yes\"]\n",
        "\n",
        "# 学習(scikit-learn)\n",
        "lr = LogisticRegression()\n",
        "lr.fit(X, y)"
      ],
      "metadata": {
        "colab": {
          "base_uri": "https://localhost:8080/"
        },
        "id": "gIzcB0378sxw",
        "outputId": "df47b23d-a513-4151-cbe7-8de8998fcd9f"
      },
      "execution_count": 17,
      "outputs": [
        {
          "output_type": "execute_result",
          "data": {
            "text/plain": [
              "LogisticRegression()"
            ]
          },
          "metadata": {},
          "execution_count": 17
        }
      ]
    },
    {
      "cell_type": "code",
      "source": [
        "reg_X = np.linspace(default[\"balance\"].min(), default[\"balance\"].max(), 100).reshape((-1, 1))\n",
        "plt.scatter(X, y)\n",
        "plt.plot(reg_X, lr.predict_proba(reg_X)[:,1], color=\"orange\")\n",
        "plt.xlabel(\"Balance\")\n",
        "plt.ylabel(\"Probability of Default\")\n",
        "plt.show()"
      ],
      "metadata": {
        "colab": {
          "base_uri": "https://localhost:8080/",
          "height": 320
        },
        "id": "WEmTE_2R9LHN",
        "outputId": "1531b254-1143-4831-db50-dc2203e270dc"
      },
      "execution_count": 33,
      "outputs": [
        {
          "output_type": "stream",
          "name": "stderr",
          "text": [
            "/usr/local/lib/python3.7/dist-packages/sklearn/base.py:446: UserWarning: X does not have valid feature names, but LogisticRegression was fitted with feature names\n",
            "  \"X does not have valid feature names, but\"\n"
          ]
        },
        {
          "output_type": "display_data",
          "data": {
            "image/png": "[encoded data removed]",
            "text/plain": [
              "<Figure size 432x288 with 1 Axes>"
            ]
          },
          "metadata": {}
        }
      ]
    },
    {
      "cell_type": "markdown",
      "source": [
        "### 4.3.2 回帰係数の推定\n",
        "\n",
        "パラメーターの推定には最尤法を用いる。すなわち、尤度関数\n",
        "\n",
        "$$l(\\beta_0, \\beta_1) = \\prod_{i:y_i=1}p(x_i)\\prod_{i':y_{i'}=0}(1-p(x_{i'}))$$\n",
        "\n",
        "を最大化するパラメータが選ばれる。\n",
        "\n"
      ],
      "metadata": {
        "id": "bW8zMD3cDMpU"
      }
    },
    {
      "cell_type": "code",
      "source": [
        "model_balance = logit(formula=\"default_Yes ~ balance\", data=default).fit()\n",
        "print(model_balance.summary())"
      ],
      "metadata": {
        "colab": {
          "base_uri": "https://localhost:8080/"
        },
        "id": "FpYIjjKLGfTk",
        "outputId": "3fb56382-c677-4871-81d8-e5b6f025db55"
      },
      "execution_count": 42,
      "outputs": [
        {
          "output_type": "stream",
          "name": "stdout",
          "text": [
            "Optimization terminated successfully.\n",
            "         Current function value: 0.079823\n",
            "         Iterations 10\n",
            "                           Logit Regression Results                           \n",
            "==============================================================================\n",
            "Dep. Variable:            default_Yes   No. Observations:                10000\n",
            "Model:                          Logit   Df Residuals:                     9998\n",
            "Method:                           MLE   Df Model:                            1\n",
            "Date:                Mon, 27 Dec 2021   Pseudo R-squ.:                  0.4534\n",
            "Time:                        00:00:28   Log-Likelihood:                -798.23\n",
            "converged:                       True   LL-Null:                       -1460.3\n",
            "Covariance Type:            nonrobust   LLR p-value:                6.233e-290\n",
            "==============================================================================\n",
            "                 coef    std err          z      P>|z|      [0.025      0.975]\n",
            "------------------------------------------------------------------------------\n",
            "Intercept    -10.6513      0.361    -29.491      0.000     -11.359      -9.943\n",
            "balance        0.0055      0.000     24.952      0.000       0.005       0.006\n",
            "==============================================================================\n",
            "\n",
            "Possibly complete quasi-separation: A fraction 0.13 of observations can be\n",
            "perfectly predicted. This might indicate that there is complete\n",
            "quasi-separation. In this case some parameters will not be identified.\n"
          ]
        }
      ]
    },
    {
      "cell_type": "code",
      "source": [
        "model_student = logit(formula=\"default_Yes ~ student_Yes\", data=default).fit()\n",
        "print(model_student.summary())"
      ],
      "metadata": {
        "colab": {
          "base_uri": "https://localhost:8080/"
        },
        "id": "MiNOy30oMFG4",
        "outputId": "fe8cef6e-05d7-44c8-9ac2-c27660aea464"
      },
      "execution_count": 43,
      "outputs": [
        {
          "output_type": "stream",
          "name": "stdout",
          "text": [
            "Optimization terminated successfully.\n",
            "         Current function value: 0.145434\n",
            "         Iterations 7\n",
            "                           Logit Regression Results                           \n",
            "==============================================================================\n",
            "Dep. Variable:            default_Yes   No. Observations:                10000\n",
            "Model:                          Logit   Df Residuals:                     9998\n",
            "Method:                           MLE   Df Model:                            1\n",
            "Date:                Mon, 27 Dec 2021   Pseudo R-squ.:                0.004097\n",
            "Time:                        00:00:58   Log-Likelihood:                -1454.3\n",
            "converged:                       True   LL-Null:                       -1460.3\n",
            "Covariance Type:            nonrobust   LLR p-value:                 0.0005416\n",
            "===============================================================================\n",
            "                  coef    std err          z      P>|z|      [0.025      0.975]\n",
            "-------------------------------------------------------------------------------\n",
            "Intercept      -3.5041      0.071    -49.554      0.000      -3.643      -3.366\n",
            "student_Yes     0.4049      0.115      3.520      0.000       0.179       0.630\n",
            "===============================================================================\n"
          ]
        }
      ]
    },
    {
      "cell_type": "markdown",
      "source": [
        "ここでの**z値**が回帰でのt値に相当する"
      ],
      "metadata": {
        "id": "AJIBUbRbIKXO"
      }
    },
    {
      "cell_type": "markdown",
      "source": [
        "### 4.3.3 予測\n",
        "\n",
        "### 4.3.4 多変量ロジスティック回帰\n",
        "\n",
        "重回帰の場合と同様に多変量に拡張する\n",
        "\n",
        "$$p(X) = \\frac{e^{\\beta_0+\\beta_1X_1+\\cdots+\\beta_pX_p}}{1+e^{\\beta_0+\\beta_1X_1+\\cdots+\\beta_pX_p}}$$\n",
        "\n",
        "$$\\log{\\left(\\frac{p(X)}{1-p(X)}\\right)} = \\beta_0+\\beta_1X_1+\\cdots+\\beta_pX_p$$"
      ],
      "metadata": {
        "id": "EClgUGOaJG06"
      }
    },
    {
      "cell_type": "code",
      "source": [
        "model_multi = logit(formula=\"default_Yes ~ balance + income + student_Yes\", data=default).fit()\n",
        "print(model_multi.summary())"
      ],
      "metadata": {
        "colab": {
          "base_uri": "https://localhost:8080/"
        },
        "id": "Prb1aSDcMRRa",
        "outputId": "7e1bf5d7-7dcb-4ec7-a5ec-ba9c59011e3d"
      },
      "execution_count": 44,
      "outputs": [
        {
          "output_type": "stream",
          "name": "stdout",
          "text": [
            "Optimization terminated successfully.\n",
            "         Current function value: 0.078577\n",
            "         Iterations 10\n",
            "                           Logit Regression Results                           \n",
            "==============================================================================\n",
            "Dep. Variable:            default_Yes   No. Observations:                10000\n",
            "Model:                          Logit   Df Residuals:                     9996\n",
            "Method:                           MLE   Df Model:                            3\n",
            "Date:                Mon, 27 Dec 2021   Pseudo R-squ.:                  0.4619\n",
            "Time:                        00:02:12   Log-Likelihood:                -785.77\n",
            "converged:                       True   LL-Null:                       -1460.3\n",
            "Covariance Type:            nonrobust   LLR p-value:                3.257e-292\n",
            "===============================================================================\n",
            "                  coef    std err          z      P>|z|      [0.025      0.975]\n",
            "-------------------------------------------------------------------------------\n",
            "Intercept     -10.8690      0.492    -22.079      0.000     -11.834      -9.904\n",
            "balance         0.0057      0.000     24.737      0.000       0.005       0.006\n",
            "income       3.033e-06    8.2e-06      0.370      0.712    -1.3e-05    1.91e-05\n",
            "student_Yes    -0.6468      0.236     -2.738      0.006      -1.110      -0.184\n",
            "===============================================================================\n",
            "\n",
            "Possibly complete quasi-separation: A fraction 0.15 of observations can be\n",
            "perfectly predicted. This might indicate that there is complete\n",
            "quasi-separation. In this case some parameters will not be identified.\n"
          ]
        }
      ]
    },
    {
      "cell_type": "markdown",
      "source": [
        "`student`に注目すると、p値がどちらも小さいのにも関わらず、回帰係数が1変数の場合が正なのに対して多変量の場合は負になっている。\n",
        "\n",
        "1変量の係数が正であるということは単に学生の方が債務不履行に陥った人の割合が高いことを表している。\n",
        "\n",
        "多変量の係数が負であるということは、債務と収入の値が一定なら、学生の方が債務不履行に陥る確率が低いことを表している。"
      ],
      "metadata": {
        "id": "fs1MJQSdQQhj"
      }
    },
    {
      "cell_type": "code",
      "source": [
        "dysy = len(default[(default[\"default_Yes\"]==1) & (default[\"student_Yes\"]==1)]) \n",
        "sy = len(default[default[\"student_Yes\"]==1])\n",
        "p_sy = dysy / sy\n",
        "print(f\"p(student = Yes) = {p_sy:.5f}\")\n",
        "\n",
        "dysn = len(default[(default[\"default_Yes\"]==1) & (default[\"student_Yes\"]==0)]) \n",
        "sn = len(default[default[\"student_Yes\"]==0])\n",
        "p_sn = dysn / sn\n",
        "print(f\"p(student = No ) = {p_sn:.5f}\")"
      ],
      "metadata": {
        "colab": {
          "base_uri": "https://localhost:8080/"
        },
        "id": "gdzEHBQLUEiT",
        "outputId": "be244efc-7319-4956-b7b6-d53ed27ac8bd"
      },
      "execution_count": 70,
      "outputs": [
        {
          "output_type": "stream",
          "name": "stdout",
          "text": [
            "p(student Yes) = 0.04314\n",
            "p(student No ) = 0.02920\n"
          ]
        }
      ]
    },
    {
      "cell_type": "code",
      "source": [
        "# 負債と学生の2変数\n",
        "X = default[[\"balance\", \"student_Yes\"]]\n",
        "y = default[\"default_Yes\"]\n",
        "lr_bs = LogisticRegression()\n",
        "lr_bs.fit(X, y)\n",
        "\n",
        "X_sy = default[[\"balance\", \"student_Yes\"]][default[\"student_Yes\"] == 1].sort_values(by=\"balance\")\n",
        "plt.plot(X_sy[\"balance\"], lr_bs.predict_proba(X_sy)[:,1], label=\"student Yes\")\n",
        "X_sy = default[[\"balance\", \"student_Yes\"]][default[\"student_Yes\"] == 0].sort_values(by=\"balance\")\n",
        "plt.plot(X_sy[\"balance\"], lr_bs.predict_proba(X_sy)[:,1], label=\"student No\")\n",
        "plt.xlabel(\"Balance\")\n",
        "plt.ylabel(\"Probability of Default\")\n",
        "plt.legend()\n",
        "plt.show()"
      ],
      "metadata": {
        "colab": {
          "base_uri": "https://localhost:8080/",
          "height": 285
        },
        "id": "gMfAaTgcbU0S",
        "outputId": "a082c811-0ad0-4d42-b770-6e0a53ad888f"
      },
      "execution_count": 85,
      "outputs": [
        {
          "output_type": "display_data",
          "data": {
            "image/png": "[encoded data removed]",
            "text/plain": [
              "<Figure size 432x288 with 1 Axes>"
            ]
          },
          "metadata": {}
        }
      ]
    },
    {
      "cell_type": "markdown",
      "source": [
        "これは`student`と`balance`の間に相関関係があるためで、学生のほうが多くの負債を抱える傾向があり、それによって債務不履行に陥る確率が高くなっている。\n",
        "\n",
        "このような現象は**交絡**と呼ばれ、他の説明変数の関連が考えられる場合に単回帰をすると発生する可能性がある。"
      ],
      "metadata": {
        "id": "gwR7aQyEjU39"
      }
    },
    {
      "cell_type": "markdown",
      "source": [
        "4.3.5 多クラス分類\n",
        "\n"
      ],
      "metadata": {
        "id": "Xxpom8KmlChr"
      }
    }
  ]
}