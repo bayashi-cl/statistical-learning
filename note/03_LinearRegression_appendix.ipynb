{
  "nbformat": 4,
  "nbformat_minor": 0,
  "metadata": {
    "colab": {
      "name": "03_LinearRegression_appendix.ipynb",
      "provenance": [],
      "authorship_tag": "ABX9TyP2K1IooYDqb/thCptvTF6m",
      "include_colab_link": true
    },
    "kernelspec": {
      "name": "python3",
      "display_name": "Python 3"
    },
    "language_info": {
      "name": "python"
    }
  },
  "cells": [
    {
      "cell_type": "markdown",
      "metadata": {
        "id": "view-in-github",
        "colab_type": "text"
      },
      "source": [
        "<a href=\"https://colab.research.google.com/github/bayashi-cl/statistical-learning/blob/main/note/03_LinearRegression_appendix.ipynb\" target=\"_parent\"><img src=\"https://colab.research.google.com/assets/colab-badge.svg\" alt=\"Open In Colab\"/></a>"
      ]
    },
    {
      "cell_type": "code",
      "source": [
        "import matplotlib.pyplot as plt\n",
        "import numpy as np\n",
        "import pandas as pd\n",
        "import scipy.stats\n",
        "from mlxtend.regressor import LinearRegression\n",
        "from statsmodels.formula.api import ols"
      ],
      "metadata": {
        "id": "mmT1BjhpJn-8",
        "outputId": "beff4b02-93d8-4440-887f-37d30aa11fc6",
        "colab": {
          "base_uri": "https://localhost:8080/"
        }
      },
      "execution_count": 1,
      "outputs": [
        {
          "output_type": "stream",
          "name": "stderr",
          "text": [
            "/usr/local/lib/python3.7/dist-packages/statsmodels/tools/_testing.py:19: FutureWarning: pandas.util.testing is deprecated. Use the functions in the public API at pandas.testing instead.\n",
            "  import pandas.util.testing as tm\n"
          ]
        }
      ]
    },
    {
      "cell_type": "markdown",
      "source": [
        "# 最小二乗推定に関する補足\n",
        "\n",
        "最小二乗推定量 $\\hat{\\beta}$ は正規方程式を利用して次のように求めていた。\n",
        "\n",
        "$$\\hat{\\beta} = (X^\\top X)X^\\top y$$\n",
        "\n",
        "しかし、この方法ではいくつかの問題点が存在する。\n",
        "* $X$ が正則でない場合に $\\hat{\\beta}$ を求めることができない\n",
        "* パラメーターが増えると計算が遅くなる。\n",
        "\n",
        "これらの問題に対処するためのいくつかの手法を示す。"
      ],
      "metadata": {
        "id": "ubKZu-bsH0G6"
      }
    },
    {
      "cell_type": "code",
      "execution_count": 2,
      "metadata": {
        "id": "44WRqwvdHlSl"
      },
      "outputs": [],
      "source": [
        "ad = pd.read_csv(\"https://www.statlearning.com/s/Advertising.csv\", index_col=0)"
      ]
    },
    {
      "cell_type": "code",
      "source": [
        "ad[\"TV2\"] = ad[\"TV\"] * 2\n",
        "ad.head()"
      ],
      "metadata": {
        "id": "syvhDUbiJ0q2",
        "outputId": "516633db-81bb-4602-b322-c0e8123da2b3",
        "colab": {
          "base_uri": "https://localhost:8080/",
          "height": 206
        }
      },
      "execution_count": 3,
      "outputs": [
        {
          "output_type": "execute_result",
          "data": {
            "text/html": [
              "\n",
              "  <div id=\"df-f4f4989b-6aca-4e21-bb3e-3193bd711396\">\n",
              "    <div class=\"colab-df-container\">\n",
              "      <div>\n",
              "<style scoped>\n",
              "    .dataframe tbody tr th:only-of-type {\n",
              "        vertical-align: middle;\n",
              "    }\n",
              "\n",
              "    .dataframe tbody tr th {\n",
              "        vertical-align: top;\n",
              "    }\n",
              "\n",
              "    .dataframe thead th {\n",
              "        text-align: right;\n",
              "    }\n",
              "</style>\n",
              "<table border=\"1\" class=\"dataframe\">\n",
              "  <thead>\n",
              "    <tr style=\"text-align: right;\">\n",
              "      <th></th>\n",
              "      <th>TV</th>\n",
              "      <th>radio</th>\n",
              "      <th>newspaper</th>\n",
              "      <th>sales</th>\n",
              "      <th>TV2</th>\n",
              "    </tr>\n",
              "  </thead>\n",
              "  <tbody>\n",
              "    <tr>\n",
              "      <th>1</th>\n",
              "      <td>230.1</td>\n",
              "      <td>37.8</td>\n",
              "      <td>69.2</td>\n",
              "      <td>22.1</td>\n",
              "      <td>460.2</td>\n",
              "    </tr>\n",
              "    <tr>\n",
              "      <th>2</th>\n",
              "      <td>44.5</td>\n",
              "      <td>39.3</td>\n",
              "      <td>45.1</td>\n",
              "      <td>10.4</td>\n",
              "      <td>89.0</td>\n",
              "    </tr>\n",
              "    <tr>\n",
              "      <th>3</th>\n",
              "      <td>17.2</td>\n",
              "      <td>45.9</td>\n",
              "      <td>69.3</td>\n",
              "      <td>9.3</td>\n",
              "      <td>34.4</td>\n",
              "    </tr>\n",
              "    <tr>\n",
              "      <th>4</th>\n",
              "      <td>151.5</td>\n",
              "      <td>41.3</td>\n",
              "      <td>58.5</td>\n",
              "      <td>18.5</td>\n",
              "      <td>303.0</td>\n",
              "    </tr>\n",
              "    <tr>\n",
              "      <th>5</th>\n",
              "      <td>180.8</td>\n",
              "      <td>10.8</td>\n",
              "      <td>58.4</td>\n",
              "      <td>12.9</td>\n",
              "      <td>361.6</td>\n",
              "    </tr>\n",
              "  </tbody>\n",
              "</table>\n",
              "</div>\n",
              "      <button class=\"colab-df-convert\" onclick=\"convertToInteractive('df-f4f4989b-6aca-4e21-bb3e-3193bd711396')\"\n",
              "              title=\"Convert this dataframe to an interactive table.\"\n",
              "              style=\"display:none;\">\n",
              "        \n",
              "  <svg xmlns=\"http://www.w3.org/2000/svg\" height=\"24px\"viewBox=\"0 0 24 24\"\n",
              "       width=\"24px\">\n",
              "    <path d=\"M0 0h24v24H0V0z\" fill=\"none\"/>\n",
              "    <path d=\"M18.56 5.44l.94 2.06.94-2.06 2.06-.94-2.06-.94-.94-2.06-.94 2.06-2.06.94zm-11 1L8.5 8.5l.94-2.06 2.06-.94-2.06-.94L8.5 2.5l-.94 2.06-2.06.94zm10 10l.94 2.06.94-2.06 2.06-.94-2.06-.94-.94-2.06-.94 2.06-2.06.94z\"/><path d=\"M17.41 7.96l-1.37-1.37c-.4-.4-.92-.59-1.43-.59-.52 0-1.04.2-1.43.59L10.3 9.45l-7.72 7.72c-.78.78-.78 2.05 0 2.83L4 21.41c.39.39.9.59 1.41.59.51 0 1.02-.2 1.41-.59l7.78-7.78 2.81-2.81c.8-.78.8-2.07 0-2.86zM5.41 20L4 18.59l7.72-7.72 1.47 1.35L5.41 20z\"/>\n",
              "  </svg>\n",
              "      </button>\n",
              "      \n",
              "  <style>\n",
              "    .colab-df-container {\n",
              "      display:flex;\n",
              "      flex-wrap:wrap;\n",
              "      gap: 12px;\n",
              "    }\n",
              "\n",
              "    .colab-df-convert {\n",
              "      background-color: #E8F0FE;\n",
              "      border: none;\n",
              "      border-radius: 50%;\n",
              "      cursor: pointer;\n",
              "      display: none;\n",
              "      fill: #1967D2;\n",
              "      height: 32px;\n",
              "      padding: 0 0 0 0;\n",
              "      width: 32px;\n",
              "    }\n",
              "\n",
              "    .colab-df-convert:hover {\n",
              "      background-color: #E2EBFA;\n",
              "      box-shadow: 0px 1px 2px rgba(60, 64, 67, 0.3), 0px 1px 3px 1px rgba(60, 64, 67, 0.15);\n",
              "      fill: #174EA6;\n",
              "    }\n",
              "\n",
              "    [theme=dark] .colab-df-convert {\n",
              "      background-color: #3B4455;\n",
              "      fill: #D2E3FC;\n",
              "    }\n",
              "\n",
              "    [theme=dark] .colab-df-convert:hover {\n",
              "      background-color: #434B5C;\n",
              "      box-shadow: 0px 1px 3px 1px rgba(0, 0, 0, 0.15);\n",
              "      filter: drop-shadow(0px 1px 2px rgba(0, 0, 0, 0.3));\n",
              "      fill: #FFFFFF;\n",
              "    }\n",
              "  </style>\n",
              "\n",
              "      <script>\n",
              "        const buttonEl =\n",
              "          document.querySelector('#df-f4f4989b-6aca-4e21-bb3e-3193bd711396 button.colab-df-convert');\n",
              "        buttonEl.style.display =\n",
              "          google.colab.kernel.accessAllowed ? 'block' : 'none';\n",
              "\n",
              "        async function convertToInteractive(key) {\n",
              "          const element = document.querySelector('#df-f4f4989b-6aca-4e21-bb3e-3193bd711396');\n",
              "          const dataTable =\n",
              "            await google.colab.kernel.invokeFunction('convertToInteractive',\n",
              "                                                     [key], {});\n",
              "          if (!dataTable) return;\n",
              "\n",
              "          const docLinkHtml = 'Like what you see? Visit the ' +\n",
              "            '<a target=\"_blank\" href=https://colab.research.google.com/notebooks/data_table.ipynb>data table notebook</a>'\n",
              "            + ' to learn more about interactive tables.';\n",
              "          element.innerHTML = '';\n",
              "          dataTable['output_type'] = 'display_data';\n",
              "          await google.colab.output.renderOutput(dataTable, element);\n",
              "          const docLink = document.createElement('div');\n",
              "          docLink.innerHTML = docLinkHtml;\n",
              "          element.appendChild(docLink);\n",
              "        }\n",
              "      </script>\n",
              "    </div>\n",
              "  </div>\n",
              "  "
            ],
            "text/plain": [
              "      TV  radio  newspaper  sales    TV2\n",
              "1  230.1   37.8       69.2   22.1  460.2\n",
              "2   44.5   39.3       45.1   10.4   89.0\n",
              "3   17.2   45.9       69.3    9.3   34.4\n",
              "4  151.5   41.3       58.5   18.5  303.0\n",
              "5  180.8   10.8       58.4   12.9  361.6"
            ]
          },
          "metadata": {},
          "execution_count": 3
        }
      ]
    },
    {
      "cell_type": "markdown",
      "source": [
        "## 多重共線性への対処\n",
        "### 0. Xが正則の場合：QR分解\n",
        "\n",
        "$A$ が行、または列でフルランクの場合 $A=QR$ と分解できる。ここで、 $Q$ は直交行列であり、 $R$ は上三角行列である。よって、最小二乗推定量は\n",
        "\n",
        "$$\\hat{\\beta} = R^{-1}Q^\\top y$$\n",
        "\n",
        "で求められる。"
      ],
      "metadata": {
        "id": "qEJhgFZ4StID"
      }
    },
    {
      "cell_type": "code",
      "source": [
        "try:\n",
        "  model_qr = ols(formula='sales ~ newspaper + radio + TV + TV2', data=ad).fit(method=\"qr\")\n",
        "  print(model_qr.summary2())\n",
        "except np.linalg.LinAlgError as e:\n",
        "  print(e)"
      ],
      "metadata": {
        "id": "MoJ5dwe5Pc_j",
        "outputId": "e866d2d9-cc0e-43c6-a598-2ced63a1d6d3",
        "colab": {
          "base_uri": "https://localhost:8080/"
        }
      },
      "execution_count": 55,
      "outputs": [
        {
          "output_type": "stream",
          "name": "stdout",
          "text": [
            "Singular matrix\n"
          ]
        }
      ]
    },
    {
      "cell_type": "markdown",
      "source": [
        "### 1. $X$ が正則でない場合：特異値分解(SVD)\n",
        "\n",
        "$X$ の**Moore-Penrose一般逆行列**（擬似逆行列）$X^+$ を以下の条件を満たす行列と定義する。\n",
        "1. $XX^+X = X$\n",
        "1. $X^+XX^+=X$\n",
        "1. $(X^+X)^\\top = X^+X$\n",
        "1. $(XX^+)^\\top = XX^+$\n",
        "\n",
        "任意の行列 $A$ は $A = U\\Sigma V^\\top$ と分解できる、ただし、 $U,V$ は\n",
        "直交行列、 $\\Sigma$ は $A$ の特異値からなる対角行列である。\n",
        "\n",
        "また、 $A^+$ は $A^+ = U\\Sigma^+V$ と分解でき、 $\\Sigma^+$ は特異値の逆数からなる対角行列になる。\n",
        "\n",
        "この行列による最小二乗推定量は\n",
        "\n",
        "$$\\hat\\beta = X^+y$$\n",
        "\n",
        "となり、(L2)ノルムを最小化する(->Ridge回帰と同じ?)。この方法はQR分解より非効率的である。"
      ],
      "metadata": {
        "id": "1_EK-yBVNKCy"
      }
    },
    {
      "cell_type": "code",
      "source": [
        "model_svd = ols(formula='sales ~ newspaper + radio + TV + TV2', data=ad).fit(method=\"pinv\")\n",
        "print(model_svd.summary2())"
      ],
      "metadata": {
        "id": "HLqp9Iu5Qw-s",
        "outputId": "6eab6745-c682-4936-99ad-ed8c0028d9a7",
        "colab": {
          "base_uri": "https://localhost:8080/"
        }
      },
      "execution_count": 29,
      "outputs": [
        {
          "output_type": "stream",
          "name": "stdout",
          "text": [
            "                 Results: Ordinary least squares\n",
            "=================================================================\n",
            "Model:              OLS              Adj. R-squared:     0.896   \n",
            "Dependent Variable: sales            AIC:                780.3622\n",
            "Date:               2021-12-26 05:45 BIC:                793.5555\n",
            "No. Observations:   200              Log-Likelihood:     -386.18 \n",
            "Df Model:           3                F-statistic:        570.3   \n",
            "Df Residuals:       196              Prob (F-statistic): 1.58e-96\n",
            "R-squared:          0.897            Scale:              2.8409  \n",
            "------------------------------------------------------------------\n",
            "                Coef.   Std.Err.     t     P>|t|    [0.025  0.975]\n",
            "------------------------------------------------------------------\n",
            "Intercept       2.9389    0.3119   9.4223  0.0000   2.3238  3.5540\n",
            "newspaper      -0.0010    0.0059  -0.1767  0.8599  -0.0126  0.0105\n",
            "radio           0.1885    0.0086  21.8935  0.0000   0.1715  0.2055\n",
            "TV              0.0092    0.0003  32.8086  0.0000   0.0086  0.0097\n",
            "TV2             0.0183    0.0006  32.8086  0.0000   0.0172  0.0194\n",
            "-----------------------------------------------------------------\n",
            "Omnibus:           60.414   Durbin-Watson:      2.084            \n",
            "Prob(Omnibus):     0.000    Jarque-Bera (JB):   151.241          \n",
            "Skew:              -1.327   Prob(JB):           0.000            \n",
            "Kurtosis:          6.332    Condition No.:      77292709321383088\n",
            "=================================================================\n",
            "* The condition number is large (8e+16). This might indicate\n",
            "strong multicollinearity or other numerical problems.\n"
          ]
        }
      ]
    },
    {
      "cell_type": "markdown",
      "source": [
        "## 各ライブラリで利用可能な手法\n",
        "\n",
        "|言語|ライブラリ|||\n",
        "|:-:|:-:|:--|:--|\n",
        "|R     |stats::lm|QR分解|[リンク](https://stat.ethz.ch/R-manual/R-devel/library/stats/html/lm.html)|\n",
        "|Python|statsmodels.regression.linear_model.OLS|擬似逆行列/qr分解|[リンク](https://www.statsmodels.org/dev/generated/statsmodels.regression.linear_model.OLS.fit.html#statsmodels.regression.linear_model.OLS.fit)|\n",
        "|Python|mlxtend.regressor.LinearRegression|閉形式/QR分解/特異値分解/勾配降下法/確率的勾配降下法|[リンク](http://rasbt.github.io/mlxtend/user_guide/regressor/LinearRegression/)|\n",
        "|Python|sklearn.linear_model.LinearRegression|不明(xGELSD?)|[リンク](https://scikit-learn.org/stable/modules/generated/sklearn.linear_model.LinearRegression.html)|"
      ],
      "metadata": {
        "id": "9fXHtm-7V8ld"
      }
    },
    {
      "cell_type": "markdown",
      "source": [
        "## 計算量の問題\n",
        "\n",
        "勾配降下法\n",
        "\n",
        "解析的に解くことを諦めて、**勾配降下法**を使う。\n",
        "\n",
        "\n"
      ],
      "metadata": {
        "id": "BjWr5cTKVaog"
      }
    },
    {
      "cell_type": "code",
      "source": [
        "X = ad[[\"TV\"]].to_numpy()\n",
        "y = ad[\"sales\"].to_numpy()\n",
        "\n",
        "# 標準化\n",
        "X = scipy.stats.zscore(X)\n",
        "y = scipy.stats.zscore(y)"
      ],
      "metadata": {
        "id": "9MC28sJ6bk5G"
      },
      "execution_count": 38,
      "outputs": []
    },
    {
      "cell_type": "code",
      "source": [
        "sgd_lr = LinearRegression(method='sgd',\n",
        "                          eta=0.01, \n",
        "                          epochs=100, \n",
        "                          random_seed=0, \n",
        "                          minibatches=len(y))\n",
        "sgd_lr.fit(X, y)"
      ],
      "metadata": {
        "id": "fya3Xpm9e-hl",
        "outputId": "b60bf06b-3e14-465a-dd82-d8c8a9d0d208",
        "colab": {
          "base_uri": "https://localhost:8080/"
        }
      },
      "execution_count": 51,
      "outputs": [
        {
          "output_type": "execute_result",
          "data": {
            "text/plain": [
              "<mlxtend.regressor.linear_regression.LinearRegression at 0x7f90c6a2d450>"
            ]
          },
          "metadata": {},
          "execution_count": 51
        }
      ]
    },
    {
      "cell_type": "code",
      "source": [
        "qr_lr = LinearRegression(method='qr')\n",
        "qr_lr.fit(X, y)"
      ],
      "metadata": {
        "id": "fc1VFOkXhoOU",
        "outputId": "0bd19cb9-b3c9-4a72-f9dc-7c4328868929",
        "colab": {
          "base_uri": "https://localhost:8080/"
        }
      },
      "execution_count": 47,
      "outputs": [
        {
          "output_type": "execute_result",
          "data": {
            "text/plain": [
              "<mlxtend.regressor.linear_regression.LinearRegression at 0x7f90c729e850>"
            ]
          },
          "metadata": {},
          "execution_count": 47
        }
      ]
    },
    {
      "cell_type": "code",
      "source": [
        "reg_X = np.linspace(-2, 2, 100)\n",
        "\n",
        "plt.scatter(X.T, y)\n",
        "plt.plot(X, sgd_lr.predict(X), color=\"red\", label=\"sgd\")\n",
        "plt.plot(X, qr_lr.predict(X), color=\"green\", label=\"qr\")\n",
        "plt.legend()\n",
        "plt.show()"
      ],
      "metadata": {
        "id": "fl-5cVBTfxAy",
        "outputId": "42ee97d4-a418-402c-81a1-74c5370c3129",
        "colab": {
          "base_uri": "https://localhost:8080/",
          "height": 268
        }
      },
      "execution_count": 54,
      "outputs": [
        {
          "output_type": "display_data",
          "data": {
            "image/png": "[encoded data removed]",
            "text/plain": [
              "<Figure size 432x288 with 1 Axes>"
            ]
          },
          "metadata": {
            "needs_background": "light"
          }
        }
      ]
    },
    {
      "cell_type": "markdown",
      "source": [
        "### 参考\n",
        "* ［第3版］Python機械学習プログラミング 達人データサイエンティストによる理論と実践\n",
        "ISBN: 978-4295010074\n",
        "* データ分析基礎線形代数の基礎知識 (増強版)\n",
        "[リンク](http://ds.k.kyoto-u.ac.jp/e-learning_files/data_analysis_basic/slide-03a.pdf)\n",
        "* mlxtend User Guide LinearRegression\n",
        "[リンク](https://rasbt.github.io/mlxtend/user_guide/regressor/LinearRegression/)\n",
        "* 【解説】 一般逆行列\n",
        "[リンク](https://www.slideshare.net/wosugi/ss-79624897)"
      ],
      "metadata": {
        "id": "kUf0Wx27Lnw-"
      }
    }
  ]
}