{
  "nbformat": 4,
  "nbformat_minor": 0,
  "metadata": {
    "colab": {
      "name": "03_LinearRegression_appendix.ipynb",
      "provenance": [],
      "include_colab_link": true
    },
    "kernelspec": {
      "name": "python3",
      "display_name": "Python 3"
    },
    "language_info": {
      "name": "python"
    }
  },
  "cells": [
    {
      "cell_type": "markdown",
      "metadata": {
        "id": "view-in-github",
        "colab_type": "text"
      },
      "source": [
        "<a href=\"https://colab.research.google.com/github/bayashi-cl/statistical-learning/blob/main/note/03_LinearRegression_appendix.ipynb\" target=\"_parent\"><img src=\"https://colab.research.google.com/assets/colab-badge.svg\" alt=\"Open In Colab\"/></a>"
      ]
    },
    {
      "cell_type": "code",
      "source": [
        "!pip install -U mlxtend"
      ],
      "metadata": {
        "id": "T1_-gLICQFPY"
      },
      "execution_count": null,
      "outputs": []
    },
    {
      "cell_type": "code",
      "source": [
        "import matplotlib.pyplot as plt\n",
        "import numpy as np\n",
        "import pandas as pd\n",
        "import seaborn as sns\n",
        "from mlxtend.regressor import LinearRegression\n",
        "from sklearn.preprocessing import StandardScaler\n",
        "from statsmodels.formula.api import ols\n",
        "\n",
        "sns.set()"
      ],
      "metadata": {
        "id": "mmT1BjhpJn-8"
      },
      "execution_count": null,
      "outputs": []
    },
    {
      "cell_type": "markdown",
      "source": [
        "# 最小二乗推定に関する補足\n",
        "\n",
        "最小二乗推定量 $\\hat{\\beta}$ は正規方程式を利用して次のように求めていた。\n",
        "\n",
        "$$\\hat{\\beta} = (X^\\top X)^{-1}X^\\top y$$\n",
        "\n",
        "しかし、この方法ではいくつかの問題点が存在する。\n",
        "* $X$ が正則でない場合に $\\hat{\\beta}$ を求めることができない\n",
        "* パラメーターが増えると計算が遅くなる。\n",
        "\n",
        "これらの問題に対処するためのいくつかの手法を示す。"
      ],
      "metadata": {
        "id": "ubKZu-bsH0G6"
      }
    },
    {
      "cell_type": "code",
      "execution_count": null,
      "metadata": {
        "id": "44WRqwvdHlSl"
      },
      "outputs": [],
      "source": [
        "ad = pd.read_csv(\"https://www.statlearning.com/s/Advertising.csv\", index_col=0)"
      ]
    },
    {
      "cell_type": "code",
      "source": [
        "ad[\"TV2\"] = ad[\"TV\"] * 2\n",
        "ad.head()"
      ],
      "metadata": {
        "id": "syvhDUbiJ0q2"
      },
      "execution_count": null,
      "outputs": []
    },
    {
      "cell_type": "markdown",
      "source": [
        "## 多重共線性への対処\n",
        "### 0. Xが正則の場合：QR分解\n",
        "\n",
        "$A$ が行、または列でフルランクの場合 $A=QR$ と分解できる。ここで、 $Q$ は直交行列であり、 $R$ は上三角行列である。よって、最小二乗推定量は\n",
        "\n",
        "$$\\hat{\\beta} = R^{-1}Q^\\top y$$\n",
        "\n",
        "で求められる。"
      ],
      "metadata": {
        "id": "qEJhgFZ4StID"
      }
    },
    {
      "cell_type": "code",
      "source": [
        "try:\n",
        "  model_qr = ols(formula='sales ~ newspaper + radio + TV + TV2', data=ad).fit(method=\"qr\")\n",
        "  print(model_qr.summary2())\n",
        "except np.linalg.LinAlgError as e:\n",
        "  print(\"ERROR!!\")\n",
        "  print(e)"
      ],
      "metadata": {
        "id": "MoJ5dwe5Pc_j"
      },
      "execution_count": null,
      "outputs": []
    },
    {
      "cell_type": "markdown",
      "source": [
        "### 1. $X$ が正則でない場合：特異値分解(SVD)\n",
        "\n",
        "$X$ の**Moore-Penrose一般逆行列**（擬似逆行列）$X^+$ を以下の条件を満たす行列と定義する。\n",
        "1. $XX^+X = X$\n",
        "1. $X^+XX^+=X$\n",
        "1. $(X^+X)^\\top = X^+X$\n",
        "1. $(XX^+)^\\top = XX^+$\n",
        "\n",
        "任意の行列 $A$ は $A = U\\Sigma V^\\top$ と分解できる、ただし、 $U,V$ は\n",
        "直交行列、 $\\Sigma$ は $A$ の特異値からなる対角行列である。\n",
        "\n",
        "また、 $A^+$ は $A^+ = U\\Sigma^+V$ と分解でき、 $\\Sigma^+$ は特異値の逆数からなる対角行列になる。\n",
        "\n",
        "この行列による最小二乗推定量は\n",
        "\n",
        "$$\\hat\\beta = X^+y$$\n",
        "\n",
        "となり、(L2)ノルムを最小化する(->Ridge回帰と同じ?)。この方法はQR分解より非効率的である。"
      ],
      "metadata": {
        "id": "1_EK-yBVNKCy"
      }
    },
    {
      "cell_type": "code",
      "source": [
        "model_svd = ols(formula='sales ~ newspaper + radio + TV + TV2', data=ad).fit(method=\"pinv\")\n",
        "print(model_svd.summary2())"
      ],
      "metadata": {
        "id": "HLqp9Iu5Qw-s"
      },
      "execution_count": null,
      "outputs": []
    },
    {
      "cell_type": "markdown",
      "source": [
        "## 計算量の問題\n",
        "\n",
        "逆行列を求めるにあたって余因子展開を用いるなら $O(p!)$ QR分解を用いるなら $O(p^3)$ の時間計算量がかかり、変数が増えるとともに計算により長い時間が必要になる。"
      ],
      "metadata": {
        "id": "BjWr5cTKVaog"
      }
    },
    {
      "cell_type": "markdown",
      "source": [
        "![image.png](data:image/png;base64,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)"
      ],
      "metadata": {
        "id": "OKaj3wpVqDzY"
      }
    },
    {
      "cell_type": "markdown",
      "source": [
        "### （確率的）勾配降下法\n",
        "\n",
        "勾配降下法は線形回帰だけでなく広くコスト関数の大域的最小値を求めるために使われる。\n",
        "\n",
        "\"勾配にそってコスト関数を下る\"という操作を繰り返し最適解に近づける。\n",
        "\n",
        "OLSの場合、コスト関数を$J$, パラメータを$w$, $i$番目のデータ$j$番目の説明変数を $x^{(i)}_j$として\n",
        "\n",
        "$$J(w)=\\frac{1}{2}\\sum_i\\left(y^{(i)}-\\hat{y}^{(i)}\\right)^2$$\n",
        "\n",
        "パラメータの更新は\n",
        "\n",
        "$$w := w + \\Delta w$$\n",
        "$$\\Delta w = -\\eta\\nabla J(w)$$\n",
        "\n",
        "ここで、 $\\nabla J(w)$ はコスト関数の**勾配**で説明変数ごとにコスト関数を偏微分することで得られる。\n",
        "\n",
        "$$\n",
        "\\begin{aligned}\n",
        "  \\frac{\\partial J}{\\partial w_j} &= \\frac{1}{2}\\frac{\\partial J}{\\partial w_j}\\sum_i\\left(y^{(i)}-\\hat{y}^{(i)}\\right)^2\\\\\n",
        "  &= \\frac{1}{2}\\sum_i2\\left(y^{(i)}-\\hat{y}^{(i)}\\right)\\frac{\\partial J}{\\partial w_j}\\left(y^{(i)}-\\sum_k(w_kx^{(i)}_k)\\right)\\\\\n",
        "  &= -\\sum_i\\left(y^{(i)}-\\hat{y}^{(i)}\\right)x^{(i)}_j\n",
        "\\end{aligned}\n",
        "$$\n",
        "\n",
        "\n",
        "また、 $\\eta$ は**学習率**でどれだけの距離を移動するかを定める。値が大きいと収束しないことがあるが、小さすぎると収束に時間がかかる。"
      ],
      "metadata": {
        "id": "jKIr2L9GrSgK"
      }
    },
    {
      "cell_type": "markdown",
      "source": [
        " # Exploring the Housing dataset\n",
        " ## Loading the Housing dataset into a data frame\n",
        " Description, which was previously available at: [https://archive.ics.uci.edu/ml/datasets/Housing](https://archive.ics.uci.edu/ml/datasets/Housing)\n",
        "\n",
        "Attributes:\n",
        "    \n",
        "```\n",
        "1. CRIM      per capita crime rate by town\n",
        "2. ZN        proportion of residential land zoned for lots over \n",
        "                 25,000 sq.ft.\n",
        "3. INDUS     proportion of non-retail business acres per town\n",
        "4. CHAS      Charles River dummy variable (= 1 if tract bounds \n",
        "                 river; 0 otherwise)\n",
        "5. NOX       nitric oxides concentration (parts per 10 million)\n",
        "6. RM        average number of rooms per dwelling\n",
        "7. AGE       proportion of owner-occupied units built prior to 1940\n",
        "8. DIS       weighted distances to five Boston employment centres\n",
        "9. RAD       index of accessibility to radial highways\n",
        "10. TAX      full-value property-tax rate per $10,000\n",
        "11. PTRATIO  pupil-teacher ratio by town\n",
        "12. B        1000(Bk - 0.63)^2 where Bk is the proportion of blacks \n",
        "                 by town\n",
        "13. LSTAT    % lower status of the population\n",
        "14. MEDV     Median value of owner-occupied homes in $1000s\n",
        "```"
      ],
      "metadata": {
        "id": "u_wJtS8KMXo2"
      }
    },
    {
      "cell_type": "code",
      "source": [
        "# データの取得\n",
        "df = pd.read_csv('https://raw.githubusercontent.com/rasbt/'\n",
        "                 'python-machine-learning-book-3rd-edition/'\n",
        "                 'master/ch10/housing.data.txt',\n",
        "                 header=None,\n",
        "                 sep='\\s+')\n",
        "\n",
        "df.columns = ['CRIM', 'ZN', 'INDUS', 'CHAS', \n",
        "              'NOX', 'RM', 'AGE', 'DIS', 'RAD', \n",
        "              'TAX', 'PTRATIO', 'B', 'LSTAT', 'MEDV']\n",
        "df.head()"
      ],
      "metadata": {
        "id": "zFbNucI4K7oU"
      },
      "execution_count": null,
      "outputs": []
    },
    {
      "cell_type": "code",
      "source": [
        "# 標準化\n",
        "X = df[['RM']].values\n",
        "y = df['MEDV'].values\n",
        "sc_x = StandardScaler()\n",
        "sc_y = StandardScaler()\n",
        "X_std = sc_x.fit_transform(X)\n",
        "y_std = sc_y.fit_transform(y[:, np.newaxis]).flatten()"
      ],
      "metadata": {
        "id": "6OI4r-7gLwqd"
      },
      "execution_count": null,
      "outputs": []
    },
    {
      "cell_type": "code",
      "source": [
        "class LinearRegressionGD(object):\n",
        "\n",
        "  def __init__(self, eta=0.001, n_iter=20):\n",
        "    self.eta = eta\n",
        "    self.n_iter = n_iter\n",
        "\n",
        "  def fit(self, X, y, init_w=None):\n",
        "    if init_w is None:\n",
        "      self.w_ = np.zeros(1 + X.shape[1])\n",
        "    else:\n",
        "      self.w_ = np.array(init_w)\n",
        "    self.cost_ = []\n",
        "    self.history = np.zeros((self.n_iter, 1 + X.shape[1]))\n",
        "\n",
        "    for i in range(self.n_iter):\n",
        "      self.history[i] = self.w_[:]\n",
        "      output = self.net_input(X)\n",
        "      errors = (y - output)\n",
        "      self.w_[1:] += self.eta * X.T.dot(errors)\n",
        "      self.w_[0] += self.eta * errors.sum()\n",
        "      cost = (errors**2).sum() / 2.0\n",
        "      self.cost_.append(cost)\n",
        "    return self\n",
        "\n",
        "  def net_input(self, X):\n",
        "    return np.dot(X, self.w_[1:]) + self.w_[0]\n",
        "\n",
        "  def predict(self, X):\n",
        "    return self.net_input(X)"
      ],
      "metadata": {
        "id": "GdPcIpx_HF2A"
      },
      "execution_count": null,
      "outputs": []
    },
    {
      "cell_type": "code",
      "source": [
        "# 学習\n",
        "lr = LinearRegressionGD(eta=0.003)\n",
        "lr.fit(X_std, y_std, (0.75, 0.2))"
      ],
      "metadata": {
        "id": "894kwDnkLzyV"
      },
      "execution_count": null,
      "outputs": []
    },
    {
      "cell_type": "code",
      "source": [
        "# QR分解でも学習\n",
        "qr_lr = LinearRegression(method='qr')\n",
        "qr_lr.fit(X_std, y_std)"
      ],
      "metadata": {
        "id": "fc1VFOkXhoOU"
      },
      "execution_count": null,
      "outputs": []
    },
    {
      "cell_type": "code",
      "source": [
        "# プロット\n",
        "plt.scatter(X_std.T, y_std)\n",
        "plt.plot(X_std, lr.predict(X_std), color=\"red\", label=\"gd\")\n",
        "plt.plot(X_std, qr_lr.predict(X_std), color=\"green\", label=\"qr\", alpha=0.5)\n",
        "plt.xlabel(\"RM\")\n",
        "plt.ylabel(\"MEDV\")\n",
        "plt.legend()\n",
        "plt.show()"
      ],
      "metadata": {
        "id": "jKFK6ALAJvb-"
      },
      "execution_count": null,
      "outputs": []
    },
    {
      "cell_type": "code",
      "source": [
        "# 等高線用のRSS\n",
        "sz = 50\n",
        "b0_ = np.linspace(lr.w_[0] - 1, lr.w_[0] + 1, sz)\n",
        "b1_ = np.linspace(lr.w_[1] - 1, lr.w_[1] + 1, sz)\n",
        "b0, b1 = np.meshgrid(b0_, b1_, indexing='xy')\n",
        "rss = np.zeros((sz, sz))\n",
        "\n",
        "for (i, j), _ in np.ndenumerate(rss):\n",
        "    rss[i, j] = ((y_std - (b0[i, j] + X_std.T * b1[i, j]))**2).sum() / 2.0"
      ],
      "metadata": {
        "id": "Zvn_-opYD1Y8"
      },
      "execution_count": null,
      "outputs": []
    },
    {
      "cell_type": "code",
      "source": [
        "fig, ax = plt.subplots()\n",
        "# 等高線\n",
        "cont = ax.contour(b0, b1, rss, cmap=plt.cm.Set1)\n",
        "cont.clabel(fmt='%1.0f', fontsize=10)\n",
        "# 学習結果\n",
        "ax.scatter(lr.w_[0], lr.w_[1], label=r\"$\\hat{w}$\", color=\"red\", s=100)\n",
        "# 学習過程\n",
        "plt.plot(lr.history.T[0], lr.history.T[1], marker=\"o\", markersize=5, alpha=0.6)\n",
        "\n",
        "ax.set(xlabel=r\"intercept\", ylabel=r\"slope\", title=\"RSS\")\n",
        "ax.legend()\n",
        "plt.show()"
      ],
      "metadata": {
        "id": "BqFW9lMKVSrD"
      },
      "execution_count": null,
      "outputs": []
    },
    {
      "cell_type": "markdown",
      "source": [
        "## 各ライブラリで利用可能な手法\n",
        "\n",
        "|言語|ライブラリ|||\n",
        "|:-:|:-:|:--|:--|\n",
        "|R     |stats::lm|QR分解|[リンク](https://stat.ethz.ch/R-manual/R-devel/library/stats/html/lm.html)|\n",
        "|Python|statsmodels.regression.linear_model.OLS|擬似逆行列/qr分解|[リンク](https://www.statsmodels.org/dev/generated/statsmodels.regression.linear_model.OLS.fit.html#statsmodels.regression.linear_model.OLS.fit)|\n",
        "|Python|mlxtend.regressor.LinearRegression|閉形式/QR分解/特異値分解/勾配降下法/確率的勾配降下法|[リンク](http://rasbt.github.io/mlxtend/user_guide/regressor/LinearRegression/)|\n",
        "|Python|sklearn.linear_model.LinearRegression|不明(xGELSD?)|[リンク](https://scikit-learn.org/stable/modules/generated/sklearn.linear_model.LinearRegression.html)|"
      ],
      "metadata": {
        "id": "9fXHtm-7V8ld"
      }
    },
    {
      "cell_type": "markdown",
      "source": [
        "### 参考\n",
        "* ［第3版］Python機械学習プログラミング 達人データサイエンティストによる理論と実践\n",
        "ISBN: 978-4295010074\n",
        "* データ分析基礎線形代数の基礎知識 (増強版)\n",
        "[リンク](http://ds.k.kyoto-u.ac.jp/e-learning_files/data_analysis_basic/slide-03a.pdf)\n",
        "* mlxtend User Guide LinearRegression\n",
        "[リンク](https://rasbt.github.io/mlxtend/user_guide/regressor/LinearRegression/)\n",
        "* 【解説】 一般逆行列\n",
        "[リンク](https://www.slideshare.net/wosugi/ss-79624897)"
      ],
      "metadata": {
        "id": "kUf0Wx27Lnw-"
      }
    }
  ]
}