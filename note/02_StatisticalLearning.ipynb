{
  "nbformat": 4,
  "nbformat_minor": 0,
  "metadata": {
    "colab": {
      "name": "02_StatisticalLearning.ipynb",
      "provenance": [],
      "collapsed_sections": [],
      "authorship_tag": "ABX9TyNK9hHVD5OpJTjcv89tsZ53",
      "include_colab_link": true
    },
    "kernelspec": {
      "name": "ir",
      "display_name": "R"
    },
    "language_info": {
      "name": "R"
    }
  },
  "cells": [
    {
      "cell_type": "markdown",
      "metadata": {
        "id": "view-in-github",
        "colab_type": "text"
      },
      "source": [
        "<a href=\"https://colab.research.google.com/github/bayashi-cl/statistical-learning/blob//note/02_StatisticalLearning.ipynb\" target=\"_parent\"><img src=\"https://colab.research.google.com/assets/colab-badge.svg\" alt=\"Open In Colab\"/></a>"
      ]
    },
    {
      "cell_type": "markdown",
      "metadata": {
        "id": "woqTQ7U8TeHU"
      },
      "source": [
        "# 2 統計的学習\n",
        "\n"
      ]
    },
    {
      "cell_type": "markdown",
      "metadata": {
        "id": "CiiCpZ8Obt58"
      },
      "source": [
        "## 統計的学習とは\n",
        "\n"
      ]
    },
    {
      "cell_type": "markdown",
      "metadata": {
        "id": "EBO-QiA5Vp-S"
      },
      "source": [
        "### データ型・変数・代入・関数\n",
        "\n",
        "#### データ型\n",
        "\n",
        "データの種類のこと。整数、小数、文字列、配列（複数のデータの集まり）など。\n",
        "\n",
        "#### 変数\n",
        "\n",
        "データを入れる箱のようなもの\n",
        "\n",
        "#### 代入\n",
        "\n",
        "変数にデータを入れること\n",
        "\n",
        "`variable <- data`\n",
        "\n",
        "(他の言語のように`=`も使えるが推奨されていない)\n",
        "\n",
        "#### 関数\n",
        "\n",
        "数学の関数とほぼ同じ。**引数**としてデータを入力すると**返り値**として返される。\n",
        "\n",
        "`funcname(input1, input2)`\n",
        "\n",
        "数学の関数との違いは\n",
        "* 数学関数は同じ入力に対しては常に同じ出力がなされるのに対して(Rの)関数は場の状態に応じて出力が変わることがある。\n",
        "* 同様に(Rの)関数は場の状態を変えることができる。(副作用)\n",
        "\n",
        "など。"
      ]
    },
    {
      "cell_type": "markdown",
      "metadata": {
        "id": "1j7WF0pGYwPR"
      },
      "source": [
        "1. `c`関数により1, 2, 3, 5を要素とする配列を生成し、それを変数`x`に代入する。\n",
        "2. `print`関数により`x`の中身を表示する。"
      ]
    },
    {
      "cell_type": "code",
      "metadata": {
        "colab": {
          "base_uri": "https://localhost:8080/"
        },
        "id": "rFAvbJirTpS_",
        "outputId": "c8b3bf23-051b-4f5e-9d78-231dd3949481"
      },
      "source": [
        "x <- c(1, 2, 3, 5)\n",
        "print(x)"
      ],
      "execution_count": null,
      "outputs": [
        {
          "output_type": "stream",
          "name": "stdout",
          "text": [
            "[1] 1 2 3 5\n"
          ]
        }
      ]
    }
  ]
}
