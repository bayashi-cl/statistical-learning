{
  "nbformat": 4,
  "nbformat_minor": 0,
  "metadata": {
    "colab": {
      "name": "03_LinearRegression.ipynb",
      "provenance": [],
      "collapsed_sections": [],
      "authorship_tag": "ABX9TyOf+iofgEwnQkH5vtqlCXw8",
      "include_colab_link": true
    },
    "kernelspec": {
      "name": "python3",
      "display_name": "Python 3"
    },
    "language_info": {
      "name": "python"
    }
  },
  "cells": [
    {
      "cell_type": "markdown",
      "metadata": {
        "id": "view-in-github",
        "colab_type": "text"
      },
      "source": [
        "<a href=\"https://colab.research.google.com/github/bayashi-cl/statistical-learning/blob/main/note/03_LinearRegression.ipynb\" target=\"_parent\"><img src=\"https://colab.research.google.com/assets/colab-badge.svg\" alt=\"Open In Colab\"/></a>"
      ]
    },
    {
      "cell_type": "code",
      "metadata": {
        "id": "C-avUL4vJ4OH"
      },
      "source": [
        "from math import sqrt\n",
        "\n",
        "import matplotlib.pyplot as plt\n",
        "from mpl_toolkits.mplot3d import axes3d\n",
        "import pandas as pd\n",
        "import seaborn as sns\n",
        "import numpy as np\n",
        "from statsmodels.formula.api import ols\n",
        "import statsmodels.formula.api as smf\n",
        "import plotly.express as px\n",
        "\n",
        "\n",
        "sns.set()"
      ],
      "execution_count": 60,
      "outputs": []
    },
    {
      "cell_type": "code",
      "metadata": {
        "id": "UiE4dy2TAUNf"
      },
      "source": [
        "ad = pd.read_csv(\"https://www.statlearning.com/s/Advertising.csv\", index_col=0)"
      ],
      "execution_count": 2,
      "outputs": []
    },
    {
      "cell_type": "code",
      "metadata": {
        "id": "G1gNXT2_APvL"
      },
      "source": [
        "X = ad['TV'].to_numpy()\n",
        "Y = ad['sales'].to_numpy()\n",
        "x_bar = X.mean()\n",
        "y_bar = Y.mean()\n",
        "n = len(X)"
      ],
      "execution_count": 3,
      "outputs": []
    },
    {
      "cell_type": "markdown",
      "metadata": {
        "id": "ERSRA0fq5vEN"
      },
      "source": [
        "# 3 線形回帰\n",
        "\n",
        "[スライド](https://web.stanford.edu/~hastie/ISLR2/Slides/Ch3_Linear_Regression.pdf)\n",
        "\n",
        "線形回帰の特徴\n",
        "* 教師あり学習\n",
        "* シンプル\n",
        "* 定量的な予測に強い\n",
        "\n",
        "今後に出てくる学習の手法は線形回帰を発展させたものが多い。"
      ]
    },
    {
      "cell_type": "markdown",
      "metadata": {
        "id": "8JairJ-E656s"
      },
      "source": [
        "`Advertising`のデータからマーケティングプランを提案するにはどのような情報が必要だろうか。\n",
        "\n",
        "以下のような問題について考える。\n",
        "\n",
        "1. そもそも広告費と売上の間に関係性はあるか。\n",
        "1. その関係はどれくらい強いのか。\n",
        "1. どのメディアがどれだけ売上に貢献しているか。\n",
        "1. 売上の予測はどれくらい正確か。\n",
        "1. 関係性は線形か。\n",
        "1. メディア間の相乗効果は存在するのか。\n",
        "\n"
      ]
    },
    {
      "cell_type": "markdown",
      "metadata": {
        "id": "96aAqKGL9vfw"
      },
      "source": [
        "## 3.1 単回帰\n",
        "\n",
        "単回帰では $Y$ を目的変数、 $X$ を説明変数として、\n",
        "\n",
        "$$Y \\approx \\beta_0 + \\beta_1X$$\n",
        "\n",
        "のようなモデルを考える。例えば`sales`と`TV`の関係なら、\n",
        "\n",
        "$$\\textrm{sales} \\approx \\beta_0 + \\beta_1 \\times \\textrm{TV}$$\n",
        "\n",
        "として $\\hat{\\beta}$ を求める。\n"
      ]
    },
    {
      "cell_type": "markdown",
      "metadata": {
        "id": "aUKuOCbBCZ-A"
      },
      "source": [
        "### 3.1.1 パラメータの推定\n",
        "\n",
        "まずは**最小二乗法**で考える（他の考え方は6章で）。\n",
        "\n",
        "$\\hat{y}_i = \\hat{\\beta_0}+\\hat{\\beta_1}x_i$ を $i$ 番目のデータに対する推定値として残差を $e_i = y_i - \\hat{y_i}$ とする。\n",
        "\n",
        "ここで**残差平方和**(*residual sum of squares (RSS)*)を\n",
        "\n",
        "$$\\textrm{RSS} = e_1^2+ \\cdots + e_n^2$$\n",
        "\n",
        "と定義してこれを最小化すると、\n",
        "\n",
        "$$\n",
        "\\begin{aligned}\n",
        "  \\hat{\\beta_1} &= \\frac{\\sum_{i=1}^n(x_i-\\bar{x})(y_i-\\bar{y})}{\\sum_{i=1}^n(x_i-\\bar{x})^2}\\\\\n",
        "  \\hat{\\beta_0} &= \\bar{y}-\\hat{\\beta_1}\\bar{x}\n",
        "\\end{aligned}\n",
        "$$\n",
        "\n",
        "となる。\n",
        "\n",
        "実際に計算をする"
      ]
    },
    {
      "cell_type": "code",
      "metadata": {
        "colab": {
          "base_uri": "https://localhost:8080/"
        },
        "id": "fZRW7yPUJ-NQ",
        "outputId": "9a6cd666-7095-4727-b9c1-12124a926e6d"
      },
      "source": [
        "numerator = 0.0\n",
        "denominator = 0.0\n",
        "\n",
        "for xi, yi in zip(X, Y):\n",
        "  numerator += (xi - x_bar) * (yi - y_bar)\n",
        "  denominator += (xi - x_bar)**2\n",
        "\n",
        "beta_hat_1 = numerator / denominator\n",
        "beta_hat_0 = y_bar - beta_hat_1 * x_bar\n",
        "\n",
        "min_rss = 0.0\n",
        "for xi, yi in zip(X, Y):\n",
        "  yi_hat = beta_hat_0 + beta_hat_1 * xi\n",
        "  min_rss += (yi - yi_hat)**2\n",
        "\n",
        "\n",
        "print(f\"sales   = {beta_hat_0:.5f} + {beta_hat_1:.5f} * TV\")\n",
        "print(f\"min RSS = {min_rss:.5f}\")"
      ],
      "execution_count": 4,
      "outputs": [
        {
          "output_type": "stream",
          "name": "stdout",
          "text": [
            "sales   = 7.03259 + 0.04754 * TV\n",
            "min RSS = 2102.53058\n"
          ]
        }
      ]
    },
    {
      "cell_type": "code",
      "metadata": {
        "colab": {
          "base_uri": "https://localhost:8080/",
          "height": 285
        },
        "id": "vxcYJ3mLN_T6",
        "outputId": "5f231d65-128a-4e22-baa4-3ec729fd99df"
      },
      "source": [
        "fig, ax = plt.subplots()\n",
        "ax.scatter(ad['TV'], ad['sales'])\n",
        "reg_x = np.linspace(0, 300, 100)\n",
        "reg_y = beta_hat_0 + beta_hat_1 * reg_x\n",
        "ax.plot(reg_x, reg_y, color=\"red\", label=\"Regression\")\n",
        "ax.set(xlabel=\"TV\", ylabel=\"sales\")\n",
        "ax.legend()\n",
        "plt.show()"
      ],
      "execution_count": 5,
      "outputs": [
        {
          "output_type": "display_data",
          "data": {
            "image/png": "[encoded data removed]",
            "text/plain": [
              "<Figure size 432x288 with 1 Axes>"
            ]
          },
          "metadata": {
            "needs_background": "light"
          }
        }
      ]
    },
    {
      "cell_type": "code",
      "metadata": {
        "id": "8p2CRqruRz_4"
      },
      "source": [
        "sz = 50\n",
        "b0_ = np.linspace(beta_hat_0 - 2, beta_hat_0 + 2, sz)\n",
        "b1_ = np.linspace(beta_hat_1 - 0.02, beta_hat_1 + 0.02, sz)\n",
        "b0, b1 = np.meshgrid(b0_, b1_, indexing='xy')\n",
        "rss = np.zeros((sz, sz))\n",
        "\n",
        "for (i, j), _ in np.ndenumerate(rss):\n",
        "    rss[i, j] = ((Y - (b0[i, j] + X * b1[i, j]))**2).sum()"
      ],
      "execution_count": 6,
      "outputs": []
    },
    {
      "cell_type": "code",
      "metadata": {
        "colab": {
          "base_uri": "https://localhost:8080/",
          "height": 304
        },
        "id": "JBvv7o9XWoMy",
        "outputId": "394b7e8b-518a-4455-fea5-2ebc84901ec9"
      },
      "source": [
        "fig, ax = plt.subplots()\n",
        "cont = ax.contour(b0, b1, rss, cmap=plt.cm.Set1, levels=[2110, 2150, 2200, 2300, 2500, 3000])\n",
        "cont.clabel(fmt='%1.0f', fontsize=10)\n",
        "ax.scatter(beta_hat_0, beta_hat_1, label=r\"$\\hat{\\beta}$\")\n",
        "ax.set(xlabel=r\"$\\beta_0$\", ylabel=r\"$\\beta_1$\", title=\"RSS\")\n",
        "ax.legend()\n",
        "plt.show()"
      ],
      "execution_count": 7,
      "outputs": [
        {
          "output_type": "display_data",
          "data": {
            "image/png": "[encoded data removed]",
            "text/plain": [
              "<Figure size 432x288 with 1 Axes>"
            ]
          },
          "metadata": {
            "needs_background": "light"
          }
        }
      ]
    },
    {
      "cell_type": "markdown",
      "metadata": {
        "id": "o3rnZpG_cyJV"
      },
      "source": [
        "### 3.1.2 推定値の制度の評価\n",
        "\n",
        "母集団に対してこのモデルをあてはめると $X$ と $Y$の関係は\n",
        "\n",
        "$Y = \\beta_0 + \\beta_1X + \\epsilon$\n",
        "\n",
        "この式は**母集団回帰線** *(population regression line)* と呼ばれ、誤差項 $\\epsilon$ はこのモデルで見逃している要素（他の変数や観測誤差など）を表す。\n",
        "\n",
        "最小二乗法による推定は母集団回帰線に一致するとは限らないが、不偏性があるので観測を繰り返せば正確になっていく。\n",
        "\n",
        "$\\hat{\\beta_0}$ と $\\hat{\\beta_1}$ の分散はそれぞれ、\n",
        "\n",
        "$$\n",
        "\\textrm{SE}(\\hat{\\beta_0})^2 = \\sigma^2\\left[ \\frac{1}{n}+\\frac{\\bar{x}^2}{\\sum_{i=1}^n(x_i-\\bar{x})^2}\\right]\n",
        "$$\n",
        "\n",
        "$$\n",
        "\\textrm{SE}(\\hat{\\beta_1})^2 = \\frac{\\sigma^2}{\\sum_{i=1}^n(x_i-\\bar{x})^2}\n",
        "$$\n",
        "\n",
        "厳密には誤差 $\\epsilon$ が共通の分散を持ち独立である必要があるが、そうでなくても近似として有効である。\n",
        "\n",
        "$x$がバラけていたほうが$\\hat{\\beta_1}$ の分散が小さくなり、少ないデータで正確な推定ができるようになる。\n",
        "\n",
        "$\\sigma^2$ は未知だが、データから推定することができ、その推定量 $\\textrm{RSE} = \\sqrt{\\textrm{RSS}/(n-2)}$ を**残差標準偏差** *(residual standard error)* と呼ぶ "
      ]
    },
    {
      "cell_type": "markdown",
      "metadata": {
        "id": "Kr5fWtf3yEUJ"
      },
      "source": [
        "標準偏差は信頼区間の推定にも使うことができ、その95%信頼区間はそれぞれ\n",
        "\n",
        "$$\\hat{\\beta_1} \\pm 2 \\cdot \\textrm{SE}(\\hat{\\beta_1})$$\n",
        "$$\\hat{\\beta_0} \\pm 2 \\cdot \\textrm{SE}(\\hat{\\beta_0})$$\n",
        "\n",
        "で構成される。\n"
      ]
    },
    {
      "cell_type": "code",
      "metadata": {
        "colab": {
          "base_uri": "https://localhost:8080/",
          "height": 285
        },
        "id": "cAdzKK_o4pXr",
        "outputId": "2cb4a5b2-b6c2-4c9b-a87a-eb40379682fc"
      },
      "source": [
        "sns.regplot(data=ad, x=\"TV\", y=\"sales\", line_kws={'color': 'orange'})\n",
        "plt.show()"
      ],
      "execution_count": 8,
      "outputs": [
        {
          "output_type": "display_data",
          "data": {
            "image/png": "[encoded data removed]",
            "text/plain": [
              "<Figure size 432x288 with 1 Axes>"
            ]
          },
          "metadata": {
            "needs_background": "light"
          }
        }
      ]
    },
    {
      "cell_type": "markdown",
      "metadata": {
        "id": "5u2Uo5dh2EOe"
      },
      "source": [
        "$X$ と $Y$ に関係性があるかは次の検定により確認できる。\n",
        "\n",
        "$$\n",
        "H_0:\\beta_1 = 0\\\\\n",
        "H_1:\\beta_1 \\ne 0\n",
        "$$\n",
        "\n",
        "t統計量が標準偏差のばらつきを無視できるほど大きければ帰無仮説をrejectできる。"
      ]
    },
    {
      "cell_type": "code",
      "metadata": {
        "id": "w_kllR3IDIQ0"
      },
      "source": [
        "model_TV = ols(formula='sales ~ TV', data=ad).fit()\n",
        "model_newspaper = ols(formula='sales ~ newspaper', data=ad).fit()"
      ],
      "execution_count": 9,
      "outputs": []
    },
    {
      "cell_type": "code",
      "metadata": {
        "colab": {
          "base_uri": "https://localhost:8080/"
        },
        "id": "4Rek777w4J71",
        "outputId": "563e65dc-7395-455a-f4b2-c82f1580005e"
      },
      "source": [
        "print(model_TV.summary2())"
      ],
      "execution_count": 10,
      "outputs": [
        {
          "output_type": "stream",
          "name": "stdout",
          "text": [
            "                 Results: Ordinary least squares\n",
            "==================================================================\n",
            "Model:              OLS              Adj. R-squared:     0.610    \n",
            "Dependent Variable: sales            AIC:                1042.0913\n",
            "Date:               2021-11-28 19:44 BIC:                1048.6880\n",
            "No. Observations:   200              Log-Likelihood:     -519.05  \n",
            "Df Model:           1                F-statistic:        312.1    \n",
            "Df Residuals:       198              Prob (F-statistic): 1.47e-42 \n",
            "R-squared:          0.612            Scale:              10.619   \n",
            "--------------------------------------------------------------------\n",
            "              Coef.    Std.Err.      t      P>|t|    [0.025   0.975]\n",
            "--------------------------------------------------------------------\n",
            "Intercept     7.0326     0.4578   15.3603   0.0000   6.1297   7.9355\n",
            "TV            0.0475     0.0027   17.6676   0.0000   0.0422   0.0528\n",
            "------------------------------------------------------------------\n",
            "Omnibus:              0.531         Durbin-Watson:           1.935\n",
            "Prob(Omnibus):        0.767         Jarque-Bera (JB):        0.669\n",
            "Skew:                 -0.089        Prob(JB):                0.716\n",
            "Kurtosis:             2.779         Condition No.:           338  \n",
            "==================================================================\n",
            "\n"
          ]
        }
      ]
    },
    {
      "cell_type": "markdown",
      "metadata": {
        "id": "YCG3-M347jCh"
      },
      "source": [
        "### 3.1.3 モデルの精度を評価する\n",
        "\n",
        "モデルがデータにどれくらいフィットしているかを知りたい。\n",
        "\n",
        "通常、**$R^2$統計量**と**残差標準誤差** *residual standard error (RSE)* で評価される。"
      ]
    },
    {
      "cell_type": "markdown",
      "metadata": {
        "id": "AHil5r0S-i3I"
      },
      "source": [
        "#### 残差標準誤差\n",
        "\n",
        "大雑把に言うと、RSEと真の回帰直線から予測値が平均してどれだけ離れているかを表す数値であり、次の式で表される。\n",
        "\n",
        "$$\\textrm{RSE} = \\sqrt{\\frac{1}{n-2}\\textrm{RSS}}$$\n"
      ]
    },
    {
      "cell_type": "code",
      "metadata": {
        "colab": {
          "base_uri": "https://localhost:8080/"
        },
        "id": "xiz5SsuZ_3GF",
        "outputId": "1dd90509-8890-4b72-d7f3-33ac46099277"
      },
      "source": [
        "rse = sqrt(1 / (n - 2) * min_rss)\n",
        "print(f\"RSE = {rse:.5f}\")"
      ],
      "execution_count": 11,
      "outputs": [
        {
          "output_type": "stream",
          "name": "stdout",
          "text": [
            "RSE = 3.25866\n"
          ]
        }
      ]
    },
    {
      "cell_type": "markdown",
      "metadata": {
        "id": "jNxXJTdSDJ_j"
      },
      "source": [
        "#### $R^2$統計量\n",
        "\n",
        "RSEは単位が $Y$ に依存するのでそれによらない統計量が欲しい。\n",
        "\n",
        "$$R^2 = \\frac{\\textrm{TSS}-\\textrm{RSS}}{\\textrm{TSS}} = 1-\\frac{\\textrm{RSS}}{\\textrm{TSS}}$$\n",
        "\n",
        "ここで、$\\textrm{TSS}=\\sum(y_i-\\bar{y})^2$ は**全平方和** *(total sum of squares)*\n",
        "\n",
        "RSSが回帰を行った後の予測のばらつきを表すのに対して、TSSは回帰を行う前のばらつきを表す。よって $R^2$ 統計量は回帰によりどれだけのばらつきが除去されたかを表し、1に近いほどより多くの要素が回帰によって説明されたことになる。\n",
        "\n",
        "単回帰の場合は$R^2$統計量は相関係数の2乗と一致するが、次の重回帰では有用である。"
      ]
    },
    {
      "cell_type": "code",
      "metadata": {
        "id": "aPAhw6wKN3uX",
        "colab": {
          "base_uri": "https://localhost:8080/"
        },
        "outputId": "86268f69-1406-490a-802c-0fc97089dd10"
      },
      "source": [
        "corr2 = np.corrcoef(X, Y)[1, 0]**2\n",
        "print(f\"corr^2 = {corr2:.5f}\")"
      ],
      "execution_count": 12,
      "outputs": [
        {
          "output_type": "stream",
          "name": "stdout",
          "text": [
            "corr^2 = 0.61188\n"
          ]
        }
      ]
    },
    {
      "cell_type": "markdown",
      "metadata": {
        "id": "K5DklIkjIeOB"
      },
      "source": [
        "## 3.2 重回帰\n",
        "\n",
        "単回帰を拡張し、次のようなモデルを考える。\n",
        "\n",
        "$$Y = \\beta_0 + \\beta_1X_1 + \\beta_2X_2 + \\cdots + \\beta_pX_p + \\epsilon$$\n",
        "\n",
        "`Advertising`の例では次のようになる。\n",
        "\n",
        "$$\\textrm{sales} = \\beta_0 + \\beta_1\\times\\textrm{TV} + \\beta_2\\times\\textrm{radio} + \\beta_3\\times\\textrm{newspaper} + \\epsilon$$\n",
        "\n"
      ]
    },
    {
      "cell_type": "code",
      "metadata": {
        "id": "XVHHMkSdDrF2"
      },
      "source": [
        "model_TV_radio= ols(formula='sales ~ TV + radio', data=ad).fit()\n",
        "model_TV_radio_newspaper= ols(formula='sales ~ TV + radio + newspaper', data=ad).fit()"
      ],
      "execution_count": 13,
      "outputs": []
    },
    {
      "cell_type": "markdown",
      "metadata": {
        "id": "6QNoS8M8KCld"
      },
      "source": [
        "### 3.2.1 回帰係数の推定\n",
        "\n",
        "単回帰の場合を自然に拡張して推定が可能。\n",
        "\n",
        "得られる係数は他の要素を固定した状態での変化量。"
      ]
    },
    {
      "cell_type": "code",
      "metadata": {
        "id": "13r7S_5MK5Bf",
        "colab": {
          "base_uri": "https://localhost:8080/"
        },
        "outputId": "d0463f5f-cb27-453c-fed0-e03138ade571"
      },
      "source": [
        "print(model_TV_radio_newspaper.summary2())"
      ],
      "execution_count": 15,
      "outputs": [
        {
          "output_type": "stream",
          "name": "stdout",
          "text": [
            "                 Results: Ordinary least squares\n",
            "=================================================================\n",
            "Model:              OLS              Adj. R-squared:     0.896   \n",
            "Dependent Variable: sales            AIC:                780.3622\n",
            "Date:               2021-11-28 19:44 BIC:                793.5555\n",
            "No. Observations:   200              Log-Likelihood:     -386.18 \n",
            "Df Model:           3                F-statistic:        570.3   \n",
            "Df Residuals:       196              Prob (F-statistic): 1.58e-96\n",
            "R-squared:          0.897            Scale:              2.8409  \n",
            "------------------------------------------------------------------\n",
            "                Coef.   Std.Err.     t     P>|t|    [0.025  0.975]\n",
            "------------------------------------------------------------------\n",
            "Intercept       2.9389    0.3119   9.4223  0.0000   2.3238  3.5540\n",
            "TV              0.0458    0.0014  32.8086  0.0000   0.0430  0.0485\n",
            "radio           0.1885    0.0086  21.8935  0.0000   0.1715  0.2055\n",
            "newspaper      -0.0010    0.0059  -0.1767  0.8599  -0.0126  0.0105\n",
            "-----------------------------------------------------------------\n",
            "Omnibus:             60.414       Durbin-Watson:          2.084  \n",
            "Prob(Omnibus):       0.000        Jarque-Bera (JB):       151.241\n",
            "Skew:                -1.327       Prob(JB):               0.000  \n",
            "Kurtosis:            6.332        Condition No.:          454    \n",
            "=================================================================\n",
            "\n"
          ]
        }
      ]
    },
    {
      "cell_type": "code",
      "metadata": {
        "colab": {
          "base_uri": "https://localhost:8080/"
        },
        "id": "dyJ8CUuhp913",
        "outputId": "89f70335-414e-46b4-fc34-4fc6406030e3"
      },
      "source": [
        "print(model_TV_radio.summary2())"
      ],
      "execution_count": 16,
      "outputs": [
        {
          "output_type": "stream",
          "name": "stdout",
          "text": [
            "                 Results: Ordinary least squares\n",
            "=================================================================\n",
            "Model:              OLS              Adj. R-squared:     0.896   \n",
            "Dependent Variable: sales            AIC:                778.3941\n",
            "Date:               2021-11-28 19:44 BIC:                788.2891\n",
            "No. Observations:   200              Log-Likelihood:     -386.20 \n",
            "Df Model:           2                F-statistic:        859.6   \n",
            "Df Residuals:       197              Prob (F-statistic): 4.83e-98\n",
            "R-squared:          0.897            Scale:              2.8270  \n",
            "-------------------------------------------------------------------\n",
            "             Coef.    Std.Err.      t      P>|t|    [0.025   0.975]\n",
            "-------------------------------------------------------------------\n",
            "Intercept    2.9211     0.2945    9.9192   0.0000   2.3403   3.5019\n",
            "TV           0.0458     0.0014   32.9087   0.0000   0.0430   0.0485\n",
            "radio        0.1880     0.0080   23.3824   0.0000   0.1721   0.2038\n",
            "-----------------------------------------------------------------\n",
            "Omnibus:             60.022       Durbin-Watson:          2.081  \n",
            "Prob(Omnibus):       0.000        Jarque-Bera (JB):       148.679\n",
            "Skew:                -1.323       Prob(JB):               0.000  \n",
            "Kurtosis:            6.292        Condition No.:          425    \n",
            "=================================================================\n",
            "\n"
          ]
        }
      ]
    },
    {
      "cell_type": "code",
      "metadata": {
        "id": "c-NZ_BHhMR6m",
        "colab": {
          "base_uri": "https://localhost:8080/"
        },
        "outputId": "a75eb890-84e7-4d87-f62c-5ac0cd44c449"
      },
      "source": [
        "print(model_newspaper.summary2())"
      ],
      "execution_count": 19,
      "outputs": [
        {
          "output_type": "stream",
          "name": "stdout",
          "text": [
            "                 Results: Ordinary least squares\n",
            "==================================================================\n",
            "Model:              OLS              Adj. R-squared:     0.047    \n",
            "Dependent Variable: sales            AIC:                1220.6714\n",
            "Date:               2021-11-28 19:44 BIC:                1227.2680\n",
            "No. Observations:   200              Log-Likelihood:     -608.34  \n",
            "Df Model:           1                F-statistic:        10.89    \n",
            "Df Residuals:       198              Prob (F-statistic): 0.00115  \n",
            "R-squared:          0.052            Scale:              25.933   \n",
            "-------------------------------------------------------------------\n",
            "                Coef.   Std.Err.     t     P>|t|    [0.025   0.975]\n",
            "-------------------------------------------------------------------\n",
            "Intercept      12.3514    0.6214  19.8761  0.0000  11.1260  13.5769\n",
            "newspaper       0.0547    0.0166   3.2996  0.0011   0.0220   0.0874\n",
            "------------------------------------------------------------------\n",
            "Omnibus:               6.231        Durbin-Watson:           1.983\n",
            "Prob(Omnibus):         0.044        Jarque-Bera (JB):        5.483\n",
            "Skew:                  0.330        Prob(JB):                0.064\n",
            "Kurtosis:              2.527        Condition No.:           65   \n",
            "==================================================================\n",
            "\n"
          ]
        }
      ]
    },
    {
      "cell_type": "code",
      "metadata": {
        "id": "JgxQet1MM4vx",
        "colab": {
          "base_uri": "https://localhost:8080/",
          "height": 173
        },
        "outputId": "4b720641-90f0-4616-a421-fa261d82c69c"
      },
      "source": [
        "ad.corr()"
      ],
      "execution_count": 20,
      "outputs": [
        {
          "output_type": "execute_result",
          "data": {
            "text/html": [
              "<div>\n",
              "<style scoped>\n",
              "    .dataframe tbody tr th:only-of-type {\n",
              "        vertical-align: middle;\n",
              "    }\n",
              "\n",
              "    .dataframe tbody tr th {\n",
              "        vertical-align: top;\n",
              "    }\n",
              "\n",
              "    .dataframe thead th {\n",
              "        text-align: right;\n",
              "    }\n",
              "</style>\n",
              "<table border=\"1\" class=\"dataframe\">\n",
              "  <thead>\n",
              "    <tr style=\"text-align: right;\">\n",
              "      <th></th>\n",
              "      <th>TV</th>\n",
              "      <th>radio</th>\n",
              "      <th>newspaper</th>\n",
              "      <th>sales</th>\n",
              "    </tr>\n",
              "  </thead>\n",
              "  <tbody>\n",
              "    <tr>\n",
              "      <th>TV</th>\n",
              "      <td>1.000000</td>\n",
              "      <td>0.054809</td>\n",
              "      <td>0.056648</td>\n",
              "      <td>0.782224</td>\n",
              "    </tr>\n",
              "    <tr>\n",
              "      <th>radio</th>\n",
              "      <td>0.054809</td>\n",
              "      <td>1.000000</td>\n",
              "      <td>0.354104</td>\n",
              "      <td>0.576223</td>\n",
              "    </tr>\n",
              "    <tr>\n",
              "      <th>newspaper</th>\n",
              "      <td>0.056648</td>\n",
              "      <td>0.354104</td>\n",
              "      <td>1.000000</td>\n",
              "      <td>0.228299</td>\n",
              "    </tr>\n",
              "    <tr>\n",
              "      <th>sales</th>\n",
              "      <td>0.782224</td>\n",
              "      <td>0.576223</td>\n",
              "      <td>0.228299</td>\n",
              "      <td>1.000000</td>\n",
              "    </tr>\n",
              "  </tbody>\n",
              "</table>\n",
              "</div>"
            ],
            "text/plain": [
              "                 TV     radio  newspaper     sales\n",
              "TV         1.000000  0.054809   0.056648  0.782224\n",
              "radio      0.054809  1.000000   0.354104  0.576223\n",
              "newspaper  0.056648  0.354104   1.000000  0.228299\n",
              "sales      0.782224  0.576223   0.228299  1.000000"
            ]
          },
          "metadata": {},
          "execution_count": 20
        }
      ]
    },
    {
      "cell_type": "markdown",
      "metadata": {
        "id": "HNty3FX0L08G"
      },
      "source": [
        "`newspaper`に注目すると、単回帰では売上との関係が認められるが、重回帰では認められないという結果になっている。重回帰による結果が正しいと仮定し`radio`と`newspaper`の相関係数が大きいことに注目すると、`radio`が大きいと`sales`も`newspaper`も大きくなるという疑似相関が見えてくる。"
      ]
    },
    {
      "cell_type": "markdown",
      "metadata": {
        "id": "ghMgwMtuPe_b"
      },
      "source": [
        "### 3.2.2 いくつかの重要な疑問\n",
        "\n",
        "1. 説明変数 $X_1, X_2, \\ldots, X_p$のうち有用なものは存在するのか。\n",
        "1. すべての予測変数がYを説明するのに役立つか，一部の予測変数だけが有用なのか\n",
        "1. モデルはどのくらいデータに適合しているか？\n",
        "1. 説明変数のセットが与えられた場合、どのような推定をすべきか。そして、その推定はどのくらい正確か。\n",
        "\n"
      ]
    },
    {
      "cell_type": "markdown",
      "metadata": {
        "id": "IrHr_H_xWdWn"
      },
      "source": [
        "#### 1 説明変数と推定値に関係はあるか\n",
        "\n",
        "以下の検定を考える\n",
        "\n",
        "$H_0:\\beta_1 = \\cdots = \\beta_p = 0$ v.s. $H_1:$ 少なくとも1つの $\\beta_j$ が非ゼロ\n",
        "\n",
        "f統計量を使う。\n",
        "\n",
        "$$F = \\frac{(\\textrm{TSS}-\\textrm{RSS})/p}{\\textrm{RSS}/(n-p-1)}$$\n",
        "\n",
        "帰無仮説が正しければ $E[(\\textrm{TSS}-\\textrm{RSS})/p] = \\sigma^2$ となり、$F$ は1に近い値になる。一方、対立仮説が正しければ $E[\\textrm{RSS}/(n-p-1)] = \\sigma^2$ となり、 $E[(\\textrm{TSS}-\\textrm{RSS})/p] > \\sigma^2$ となるため、$F$ は1よりも大きい値になる。\n",
        "\n",
        "棄却域は $n$ と $p$ に依存する。詳しくは現代数理統計学の11.3節へ\n",
        "\n",
        "`Advertising`ではF統計量が1よりも非常に大きいことから、少なくとも1つのメディアが売上増加と関連しているという極めて強い証拠が得られる。\n",
        "\n",
        "説明変数が多いとp値を個別に見ただけではそれが偶然小さい値をとっているだけの可能性があるが、F統計量は説明変数の数を調整しているため、そのような問題が発生しない。\n",
        "\n",
        "$p>n$ の場合にはそもそも最小二乗法が使えないため、前方選択や6章に出てくる手法を使うことになる。"
      ]
    },
    {
      "cell_type": "markdown",
      "metadata": {
        "id": "gBEtad5MgVy0"
      },
      "source": [
        "#### 2 どの変数が重要か\n",
        "\n",
        "大抵の場合、全ての説明変数が目的変数に関係しているわけではない。理想的には全てのモデルを作り、比較することで **変数選択** を行う必要がある。比較の際に基準となる統計情報については\n",
        "* 赤池情報量基準(AIC)\n",
        "* ベイズ情報量基準(BIC)\n",
        "* adjusted $R^2$\n",
        "\n",
        "などがある。 \n",
        "\n",
        "しかし、この方法では $2^p$ 個のモデルを作ることになり、嬉しくない。よって効率化が必要である。\n",
        "\n",
        "古典的には以下のような手法がある。\n",
        "\n",
        "##### 前方選択\n",
        "切片のみの状態から、単回帰を行いRSSが小さい順に変数を貪欲に追加していく。余分な変数を含んでしまうことがある。\n",
        "\n",
        "##### 後方選択\n",
        "全ての変数が選択された状態からp値が大きい順に除去していく。$p>n$ のときは使えない。\n",
        "\n",
        "##### 混合選択\n",
        "前方選択を行い、p値が一定値を上回った場合にその変数を除去する。\n"
      ]
    },
    {
      "cell_type": "markdown",
      "metadata": {
        "id": "lFgzat_vokbG"
      },
      "source": [
        "##### 3 モデルの適合度\n",
        "\n",
        "単回帰のときと同じようにRSEと$R^2$を使う\n",
        "\n",
        "重回帰の場合、 $R^2 = \\textrm{Cor}(Y, \\hat{Y})^2$ となる。\n",
        "\n",
        "$R^2$の値が1に近いとき、そのモデルが分散の大部分を説明できていることになる。\n",
        "\n",
        "`TV`と`radio`のモデルと`TV`と`radio`と`newspaper`のモデルを比較すると、 $R^2$ がほとんど変化していない（実際には微増）ことから、過学習が発生している可能性があり、`newspaper`が除外できる事がわかる。\n"
      ]
    },
    {
      "cell_type": "code",
      "metadata": {
        "id": "ePyrr8Pavbc5"
      },
      "source": [
        "def calc_rse(model, Y_, data):\n",
        "  y_hat = model.predict(data)\n",
        "  p = len(model.params) - 1\n",
        "  n = len(data)\n",
        "  return sqrt(1 / (n - p - 1) * ((Y_ - y_hat)**2).sum())"
      ],
      "execution_count": 32,
      "outputs": []
    },
    {
      "cell_type": "code",
      "metadata": {
        "colab": {
          "base_uri": "https://localhost:8080/"
        },
        "id": "n1OKHg2guVBs",
        "outputId": "5eaea229-f313-4255-c011-c4c3117bd87b"
      },
      "source": [
        "rse_TV = calc_rse(model_TV, Y, ad)\n",
        "rse_TV_radio = calc_rse(model_TV_radio, Y, ad)\n",
        "rse_multi = calc_rse(model_TV_radio_newspaper, Y, ad)\n",
        "print(f\"RSE TV                     = {rse_TV:.5f}\")\n",
        "print(f\"RSE TV & radio             = {rse_TV_radio:.5f}\")\n",
        "print(f\"RSE TV & radio & newspaper = {rse_multi:.5f}\")"
      ],
      "execution_count": 33,
      "outputs": [
        {
          "output_type": "stream",
          "name": "stdout",
          "text": [
            "RSE TV                     = 3.25866\n",
            "RSE TV & radio             = 1.68136\n",
            "RSE TV & radio & newspaper = 1.68551\n"
          ]
        }
      ]
    },
    {
      "cell_type": "markdown",
      "metadata": {
        "id": "nzvMkLCvyPMj"
      },
      "source": [
        "`TV`から`TV & radio`ではRSEが減少しているのに対して`TV & radio`から`TV & radio & newspaper`ではRSEが増加している。これは重回帰のRSEが\n",
        "\n",
        "$$\\textrm{RSE} = \\sqrt{\\frac{1}{n-p-1}\\textrm{RSS}}$$\n",
        "\n",
        "と表されるためである。"
      ]
    },
    {
      "cell_type": "code",
      "metadata": {
        "colab": {
          "base_uri": "https://localhost:8080/",
          "height": 542
        },
        "id": "LeCpD_eb2xYy",
        "outputId": "7705197f-ab90-4de5-b55b-262bbcf87ad5"
      },
      "source": [
        "error = Y - model_TV_radio.predict(ad)\n",
        "fig = px.scatter_3d(ad, x='TV', y='radio', z='sales', color=error)\n",
        "fig.update_traces(marker_size=2)\n",
        "fig.show()"
      ],
      "execution_count": 52,
      "outputs": [
        {
          "output_type": "display_data",
          "data": {
            "text/html": [
              "<html>\n",
              "<head><meta charset=\"utf-8\" /></head>\n",
              "<body>\n",
              "    <div>\n",
              "            <script src=\"https://cdnjs.cloudflare.com/ajax/libs/mathjax/2.7.5/MathJax.js?config=TeX-AMS-MML_SVG\"></script><script type=\"text/javascript\">if (window.MathJax) {MathJax.Hub.Config({SVG: {font: \"STIX-Web\"}});}</script>\n",
              "                <script type=\"text/javascript\">window.PlotlyConfig = {MathJaxConfig: 'local'};</script>\n",
              "        <script src=\"https://cdn.plot.ly/plotly-latest.min.js\"></script>    \n",
              "            <div id=\"6213bd30-ad11-476f-8d70-0039389fac21\" class=\"plotly-graph-div\" style=\"height:525px; width:100%;\"></div>\n",
              "            <script type=\"text/javascript\">\n",
              "                \n",
              "                    window.PLOTLYENV=window.PLOTLYENV || {};\n",
              "                    \n",
              "                if (document.getElementById(\"6213bd30-ad11-476f-8d70-0039389fac21\")) {\n",
              "                    Plotly.newPlot(\n",
              "                        '6213bd30-ad11-476f-8d70-0039389fac21',\n",
              "                        [{\"hoverlabel\": {\"namelength\": 0}, \"hovertemplate\": \"TV=%{x}<br>radio=%{y}<br>sales=%{z}<br>color=%{marker.color}\", \"legendgroup\": \"\", \"marker\": {\"color\": [1.5445353665895638, -1.945362290581171, -3.0370177340158335, 0.8828840403630629, -0.3239081301790403, -5.312084485517613, 0.08178758613684778, 1.094484470687453, 1.0906208018229577, -1.951696958812951, 1.564140295015938, 0.14347984650639845, -1.4086618661836, 0.8890494929255901, 0.5553322696570575, 1.5710846070558446, -0.4038650705614124, 1.158923743987799, 1.3587852368840583, 0.44615380698096274, -0.1213916078627264, -2.2420635731641863, -0.9141716750022573, -1.0440266298640388, 1.559647851381925, -3.6080205956491316, 0.03230616967602806, -1.146334602732674, -0.49954145096325675, 1.340702515533943, -0.24292186886508205, 0.5420819194899895, 1.9495407198397974, -1.433463335657141, 1.9369723651534443, -4.192800991431234, 2.0327928111481093, -0.925899395498794, 0.18742170597622732, 1.059419900963853, 0.22127877599405466, -0.198709354413932, -0.862153703463651, -1.066922660428384, -0.400997395584092, -0.26263813556052185, 1.7135503294872727, 1.5005595401038718, -1.4869026839705164, 1.518370505875252, -1.245694072123106, 1.3803720758918505, 1.9381988496551017, 1.238737580280084, -0.15512356612273592, 2.3913525689475534, -3.0377478306736787, 0.43760511971835925, 1.9092714239206856, 0.2925308604990029, 2.3550290264466707, 1.2958134249964743, -1.084137678707446, 0.8152514687531944, 1.0342909284945527, 1.4734715380517356, 0.5129654370513599, 1.3793380580204762, -0.053134249459109384, 1.2063096250499896, 0.5164930663891489, 1.766703948826283, -1.5511384355841784, 1.086659921779848, -0.3098354298343864, -3.2097039909208327, 2.419851909722774, 0.4076094092363789, -3.4892032898981897, 1.3237859908936507, 0.36378636311039436, -2.363880902786459, 1.1172797100915552, -0.8164723499224991, 0.9264953188418197, -0.02002395974673199, 0.41796646332425524, 0.3812764551211849, 1.1448971353519592, -0.23110264295407035, 1.2128567090808229, 2.7883210357736203, 0.22027024831023567, 0.9372277070935802, 1.0329137730549576, 0.5665212203873615, -0.9202311695488632, 0.17095601637939595, 1.2715743667740362, 0.2534898358624815, -2.205345965351798, 0.4929824653186792, -2.840340792591789, -0.05193036776665849, 0.4319011574419278, 1.2463789699741206, 1.067093217244559, 1.5862665344714868, 1.7043143191226404, 0.13607561469370566, -1.3940898205146617, 0.6761806660930176, 0.24466798438302817, -0.4839902259690607, -0.6972562591397544, -0.3370844582067729, 0.22151238485464475, 2.8328368325763984, 0.2905328671001879, -0.21665095129096024, 1.075499440388521, -0.8607651539660761, -2.021364638934932, 0.1418821075896961, 0.20595650206190896, 1.4707483366613765, -3.9909628857235546, 2.209363916488557, 2.4873972164326474, 1.7959823881270154, -8.79769965714013, -2.900460134409423, -2.718883323326584, 0.3241851365979791, -1.066029737178777, -2.366786132941641, -1.9241980171847413, -0.07722595489660478, -0.15760743121741783, 1.0658882267743195, 1.424594806630619, 0.7611967801574764, 0.8485550340133159, 1.6213793362865374, 1.2949723208907642, 0.602310498335294, -2.0791888725017706, 2.1396119506180042, -1.335950219044486, 0.28340880577278504, -2.2775962612995, 1.5634159567540546, 0.25748314336901856, 0.7777294639542482, 0.11946762992424276, -2.0894276831151357, -0.0952259083796303, 0.08043629084725623, -3.0934182113771334, 0.49389716896945046, 0.18349898083163652, -0.27248087957442557, -0.044002579275474574, 0.679800278941542, 0.8529206264301958, -2.38978442411654, -2.8086940236380222, -1.1607656537332893, -0.1133508334162272, -2.921932647816355, 1.0104263037454704, 0.12315366710337905, 0.0034217565455563204, -0.26096978443055363, -2.2361511613935185, 2.21647410437377, 0.23597837255421794, -0.4749244102467056, -4.21384397209961, 0.22196044065356446, -0.07508894644646169, -1.7336958357399403, 2.135912387178621, 2.0360635198520782, -0.9379490120708418, 1.8206233712983177, 0.601315505092094, 0.2397206177763458, -2.720096781335206, 0.6485549030989981, -1.6549778229923486, 1.4940738999642758, 1.4211409387130853, 1.1512394106823827, 0.8368097992807648, 2.2354875122386098, 1.5476247946339754, 0.031951507135513424, 1.7070770068766912, -1.7575428462995646], \"coloraxis\": \"coloraxis\", \"size\": 2, \"symbol\": \"circle\"}, \"mode\": \"markers\", \"name\": \"\", \"scene\": \"scene\", \"showlegend\": false, \"type\": \"scatter3d\", \"x\": [230.1, 44.5, 17.2, 151.5, 180.8, 8.7, 57.5, 120.2, 8.6, 199.8, 66.1, 214.7, 23.8, 97.5, 204.1, 195.4, 67.8, 281.4, 69.2, 147.3, 218.4, 237.4, 13.2, 228.3, 62.3, 262.9, 142.9, 240.1, 248.8, 70.6, 292.9, 112.9, 97.2, 265.6, 95.7, 290.7, 266.9, 74.7, 43.1, 228.0, 202.5, 177.0, 293.6, 206.9, 25.1, 175.1, 89.7, 239.9, 227.2, 66.9, 199.8, 100.4, 216.4, 182.6, 262.7, 198.9, 7.3, 136.2, 210.8, 210.7, 53.5, 261.3, 239.3, 102.7, 131.1, 69.0, 31.5, 139.3, 237.4, 216.8, 199.1, 109.8, 26.8, 129.4, 213.4, 16.9, 27.5, 120.5, 5.4, 116.0, 76.4, 239.8, 75.3, 68.4, 213.5, 193.2, 76.3, 110.7, 88.3, 109.8, 134.3, 28.6, 217.7, 250.9, 107.4, 163.3, 197.6, 184.9, 289.7, 135.2, 222.4, 296.4, 280.2, 187.9, 238.2, 137.9, 25.0, 90.4, 13.1, 255.4, 225.8, 241.7, 175.7, 209.6, 78.2, 75.1, 139.2, 76.4, 125.7, 19.4, 141.3, 18.8, 224.0, 123.1, 229.5, 87.2, 7.8, 80.2, 220.3, 59.6, 0.7, 265.2, 8.4, 219.8, 36.9, 48.3, 25.6, 273.7, 43.0, 184.9, 73.4, 193.7, 220.5, 104.6, 96.2, 140.3, 240.1, 243.2, 38.0, 44.7, 280.7, 121.0, 197.6, 171.3, 187.8, 4.1, 93.9, 149.8, 11.7, 131.7, 172.5, 85.7, 188.4, 163.5, 117.2, 234.5, 17.9, 206.8, 215.4, 284.3, 50.0, 164.5, 19.6, 168.4, 222.4, 276.9, 248.4, 170.2, 276.7, 165.6, 156.6, 218.5, 56.2, 287.6, 253.8, 205.0, 139.5, 191.1, 286.0, 18.7, 39.5, 75.5, 17.2, 166.8, 149.7, 38.2, 94.2, 177.0, 283.6, 232.1], \"y\": [37.8, 39.3, 45.9, 41.3, 10.8, 48.9, 32.8, 19.6, 2.1, 2.6, 5.8, 24.0, 35.1, 7.6, 32.9, 47.7, 36.6, 39.6, 20.5, 23.9, 27.7, 5.1, 15.9, 16.9, 12.6, 3.5, 29.3, 16.7, 27.1, 16.0, 28.3, 17.4, 1.5, 20.0, 1.4, 4.1, 43.8, 49.4, 26.7, 37.7, 22.3, 33.4, 27.7, 8.4, 25.7, 22.5, 9.9, 41.5, 15.8, 11.7, 3.1, 9.6, 41.7, 46.2, 28.8, 49.4, 28.1, 19.2, 49.6, 29.5, 2.0, 42.7, 15.5, 29.6, 42.8, 9.3, 24.6, 14.5, 27.5, 43.9, 30.6, 14.3, 33.0, 5.7, 24.6, 43.7, 1.6, 28.5, 29.9, 7.7, 26.7, 4.1, 20.3, 44.5, 43.0, 18.4, 27.5, 40.6, 25.5, 47.8, 4.9, 1.5, 33.5, 36.5, 14.0, 31.6, 3.5, 21.0, 42.3, 41.7, 4.3, 36.3, 10.1, 17.2, 34.3, 46.4, 11.0, 0.3, 0.4, 26.9, 8.2, 38.0, 15.4, 20.6, 46.8, 35.0, 14.3, 0.8, 36.9, 16.0, 26.8, 21.7, 2.4, 34.6, 32.3, 11.8, 38.9, 0.0, 49.0, 12.0, 39.6, 2.9, 27.2, 33.5, 38.6, 47.0, 39.0, 28.9, 25.9, 43.9, 17.0, 35.4, 33.2, 5.7, 14.8, 1.9, 7.3, 49.0, 40.3, 25.8, 13.9, 8.4, 23.3, 39.7, 21.1, 11.6, 43.5, 1.3, 36.9, 18.4, 18.1, 35.8, 18.1, 36.8, 14.7, 3.4, 37.6, 5.2, 23.6, 10.6, 11.6, 20.9, 20.1, 7.1, 3.4, 48.9, 30.2, 7.8, 2.3, 10.0, 2.6, 5.4, 5.7, 43.0, 21.3, 45.1, 2.1, 28.7, 13.9, 12.1, 41.1, 10.8, 4.1, 42.0, 35.6, 3.7, 4.9, 9.3, 42.0, 8.6], \"z\": [22.1, 10.4, 9.3, 18.5, 12.9, 7.2, 11.8, 13.2, 4.8, 10.6, 8.6, 17.4, 9.2, 9.7, 19.0, 22.4, 12.5, 24.4, 11.3, 14.6, 18.0, 12.5, 5.6, 15.5, 9.7, 12.0, 15.0, 15.9, 18.9, 10.5, 21.4, 11.9, 9.6, 17.4, 9.5, 12.8, 25.4, 14.7, 10.1, 21.5, 16.6, 17.1, 20.7, 12.9, 8.5, 14.9, 10.6, 23.2, 14.8, 9.7, 11.4, 10.7, 22.6, 21.2, 20.2, 23.7, 5.5, 13.2, 23.8, 18.4, 8.1, 24.2, 15.7, 14.0, 18.0, 9.3, 9.5, 13.4, 18.9, 22.3, 18.3, 12.4, 8.8, 11.0, 17.0, 8.7, 6.9, 14.2, 5.3, 11.0, 11.8, 12.3, 11.3, 13.6, 21.7, 15.2, 12.0, 16.0, 12.9, 16.7, 11.2, 7.3, 19.4, 22.2, 11.5, 16.9, 11.7, 15.5, 25.4, 17.2, 11.7, 23.8, 14.8, 14.7, 20.7, 19.2, 7.2, 8.7, 5.3, 19.8, 13.4, 21.8, 14.1, 15.9, 14.6, 12.6, 12.2, 9.4, 15.9, 6.6, 15.5, 7.0, 11.6, 15.2, 19.7, 10.6, 6.6, 8.8, 24.7, 9.7, 1.6, 12.7, 5.7, 19.6, 10.8, 11.6, 9.5, 20.8, 9.6, 20.7, 10.9, 19.2, 20.1, 10.4, 11.4, 10.3, 13.2, 25.4, 10.9, 10.1, 16.1, 11.6, 16.6, 19.0, 15.6, 3.2, 15.3, 10.1, 7.3, 12.9, 14.4, 13.3, 14.9, 18.0, 11.9, 11.9, 8.0, 12.2, 17.1, 15.0, 8.4, 14.5, 7.6, 11.7, 11.5, 27.0, 20.2, 11.7, 11.8, 12.6, 10.5, 12.2, 8.7, 26.2, 17.6, 22.6, 10.3, 17.3, 15.9, 6.7, 10.8, 9.9, 5.9, 19.6, 17.3, 7.6, 9.7, 12.8, 25.5, 13.4]}],\n",
              "                        {\"coloraxis\": {\"colorbar\": {\"title\": {\"text\": \"color\"}}, \"colorscale\": [[0.0, \"#0d0887\"], [0.1111111111111111, \"#46039f\"], [0.2222222222222222, \"#7201a8\"], [0.3333333333333333, \"#9c179e\"], [0.4444444444444444, \"#bd3786\"], [0.5555555555555556, \"#d8576b\"], [0.6666666666666666, \"#ed7953\"], [0.7777777777777778, \"#fb9f3a\"], [0.8888888888888888, \"#fdca26\"], [1.0, \"#f0f921\"]]}, \"legend\": {\"tracegroupgap\": 0}, \"margin\": {\"t\": 60}, \"scene\": {\"domain\": {\"x\": [0.0, 1.0], \"y\": [0.0, 1.0]}, \"xaxis\": {\"title\": {\"text\": \"TV\"}}, \"yaxis\": {\"title\": {\"text\": \"radio\"}}, \"zaxis\": {\"title\": {\"text\": \"sales\"}}}, \"template\": {\"data\": {\"bar\": [{\"error_x\": {\"color\": \"#2a3f5f\"}, \"error_y\": {\"color\": \"#2a3f5f\"}, \"marker\": {\"line\": {\"color\": \"#E5ECF6\", \"width\": 0.5}}, \"type\": \"bar\"}], \"barpolar\": [{\"marker\": {\"line\": {\"color\": \"#E5ECF6\", \"width\": 0.5}}, \"type\": \"barpolar\"}], \"carpet\": [{\"aaxis\": {\"endlinecolor\": \"#2a3f5f\", \"gridcolor\": \"white\", \"linecolor\": \"white\", \"minorgridcolor\": \"white\", \"startlinecolor\": \"#2a3f5f\"}, \"baxis\": {\"endlinecolor\": \"#2a3f5f\", \"gridcolor\": \"white\", \"linecolor\": \"white\", \"minorgridcolor\": \"white\", \"startlinecolor\": \"#2a3f5f\"}, \"type\": \"carpet\"}], \"choropleth\": [{\"colorbar\": {\"outlinewidth\": 0, \"ticks\": \"\"}, \"type\": \"choropleth\"}], \"contour\": [{\"colorbar\": {\"outlinewidth\": 0, \"ticks\": \"\"}, \"colorscale\": [[0.0, \"#0d0887\"], [0.1111111111111111, \"#46039f\"], [0.2222222222222222, \"#7201a8\"], [0.3333333333333333, \"#9c179e\"], [0.4444444444444444, \"#bd3786\"], [0.5555555555555556, \"#d8576b\"], [0.6666666666666666, \"#ed7953\"], [0.7777777777777778, \"#fb9f3a\"], [0.8888888888888888, \"#fdca26\"], [1.0, \"#f0f921\"]], \"type\": \"contour\"}], \"contourcarpet\": [{\"colorbar\": {\"outlinewidth\": 0, \"ticks\": \"\"}, \"type\": \"contourcarpet\"}], \"heatmap\": [{\"colorbar\": {\"outlinewidth\": 0, \"ticks\": \"\"}, \"colorscale\": [[0.0, \"#0d0887\"], [0.1111111111111111, \"#46039f\"], [0.2222222222222222, \"#7201a8\"], [0.3333333333333333, \"#9c179e\"], [0.4444444444444444, \"#bd3786\"], [0.5555555555555556, \"#d8576b\"], [0.6666666666666666, \"#ed7953\"], [0.7777777777777778, \"#fb9f3a\"], [0.8888888888888888, \"#fdca26\"], [1.0, \"#f0f921\"]], \"type\": \"heatmap\"}], \"heatmapgl\": [{\"colorbar\": {\"outlinewidth\": 0, \"ticks\": \"\"}, \"colorscale\": [[0.0, \"#0d0887\"], [0.1111111111111111, \"#46039f\"], [0.2222222222222222, \"#7201a8\"], [0.3333333333333333, \"#9c179e\"], [0.4444444444444444, \"#bd3786\"], [0.5555555555555556, \"#d8576b\"], [0.6666666666666666, \"#ed7953\"], [0.7777777777777778, \"#fb9f3a\"], [0.8888888888888888, \"#fdca26\"], [1.0, \"#f0f921\"]], \"type\": \"heatmapgl\"}], \"histogram\": [{\"marker\": {\"colorbar\": {\"outlinewidth\": 0, \"ticks\": \"\"}}, \"type\": \"histogram\"}], \"histogram2d\": [{\"colorbar\": {\"outlinewidth\": 0, \"ticks\": \"\"}, \"colorscale\": [[0.0, \"#0d0887\"], [0.1111111111111111, \"#46039f\"], [0.2222222222222222, \"#7201a8\"], [0.3333333333333333, \"#9c179e\"], [0.4444444444444444, \"#bd3786\"], [0.5555555555555556, \"#d8576b\"], [0.6666666666666666, \"#ed7953\"], [0.7777777777777778, \"#fb9f3a\"], [0.8888888888888888, \"#fdca26\"], [1.0, \"#f0f921\"]], \"type\": \"histogram2d\"}], \"histogram2dcontour\": [{\"colorbar\": {\"outlinewidth\": 0, \"ticks\": \"\"}, \"colorscale\": [[0.0, \"#0d0887\"], [0.1111111111111111, \"#46039f\"], [0.2222222222222222, \"#7201a8\"], [0.3333333333333333, \"#9c179e\"], [0.4444444444444444, \"#bd3786\"], [0.5555555555555556, \"#d8576b\"], [0.6666666666666666, \"#ed7953\"], [0.7777777777777778, \"#fb9f3a\"], [0.8888888888888888, \"#fdca26\"], [1.0, \"#f0f921\"]], \"type\": \"histogram2dcontour\"}], \"mesh3d\": [{\"colorbar\": {\"outlinewidth\": 0, \"ticks\": \"\"}, \"type\": \"mesh3d\"}], \"parcoords\": [{\"line\": {\"colorbar\": {\"outlinewidth\": 0, \"ticks\": \"\"}}, \"type\": \"parcoords\"}], \"pie\": [{\"automargin\": true, \"type\": \"pie\"}], \"scatter\": [{\"marker\": {\"colorbar\": {\"outlinewidth\": 0, \"ticks\": \"\"}}, \"type\": \"scatter\"}], \"scatter3d\": [{\"line\": {\"colorbar\": {\"outlinewidth\": 0, \"ticks\": \"\"}}, \"marker\": {\"colorbar\": {\"outlinewidth\": 0, \"ticks\": \"\"}}, \"type\": \"scatter3d\"}], \"scattercarpet\": [{\"marker\": {\"colorbar\": {\"outlinewidth\": 0, \"ticks\": \"\"}}, \"type\": \"scattercarpet\"}], \"scattergeo\": [{\"marker\": {\"colorbar\": {\"outlinewidth\": 0, \"ticks\": \"\"}}, \"type\": \"scattergeo\"}], \"scattergl\": [{\"marker\": {\"colorbar\": {\"outlinewidth\": 0, \"ticks\": \"\"}}, \"type\": \"scattergl\"}], \"scattermapbox\": [{\"marker\": {\"colorbar\": {\"outlinewidth\": 0, \"ticks\": \"\"}}, \"type\": \"scattermapbox\"}], \"scatterpolar\": [{\"marker\": {\"colorbar\": {\"outlinewidth\": 0, \"ticks\": \"\"}}, \"type\": \"scatterpolar\"}], \"scatterpolargl\": [{\"marker\": {\"colorbar\": {\"outlinewidth\": 0, \"ticks\": \"\"}}, \"type\": \"scatterpolargl\"}], \"scatterternary\": [{\"marker\": {\"colorbar\": {\"outlinewidth\": 0, \"ticks\": \"\"}}, \"type\": \"scatterternary\"}], \"surface\": [{\"colorbar\": {\"outlinewidth\": 0, \"ticks\": \"\"}, \"colorscale\": [[0.0, \"#0d0887\"], [0.1111111111111111, \"#46039f\"], [0.2222222222222222, \"#7201a8\"], [0.3333333333333333, \"#9c179e\"], [0.4444444444444444, \"#bd3786\"], [0.5555555555555556, \"#d8576b\"], [0.6666666666666666, \"#ed7953\"], [0.7777777777777778, \"#fb9f3a\"], [0.8888888888888888, \"#fdca26\"], [1.0, \"#f0f921\"]], \"type\": \"surface\"}], \"table\": [{\"cells\": {\"fill\": {\"color\": \"#EBF0F8\"}, \"line\": {\"color\": \"white\"}}, \"header\": {\"fill\": {\"color\": \"#C8D4E3\"}, \"line\": {\"color\": \"white\"}}, \"type\": \"table\"}]}, \"layout\": {\"annotationdefaults\": {\"arrowcolor\": \"#2a3f5f\", \"arrowhead\": 0, \"arrowwidth\": 1}, \"coloraxis\": {\"colorbar\": {\"outlinewidth\": 0, \"ticks\": \"\"}}, \"colorscale\": {\"diverging\": [[0, \"#8e0152\"], [0.1, \"#c51b7d\"], [0.2, \"#de77ae\"], [0.3, \"#f1b6da\"], [0.4, \"#fde0ef\"], [0.5, \"#f7f7f7\"], [0.6, \"#e6f5d0\"], [0.7, \"#b8e186\"], [0.8, \"#7fbc41\"], [0.9, \"#4d9221\"], [1, \"#276419\"]], \"sequential\": [[0.0, \"#0d0887\"], [0.1111111111111111, \"#46039f\"], [0.2222222222222222, \"#7201a8\"], [0.3333333333333333, \"#9c179e\"], [0.4444444444444444, \"#bd3786\"], [0.5555555555555556, \"#d8576b\"], [0.6666666666666666, \"#ed7953\"], [0.7777777777777778, \"#fb9f3a\"], [0.8888888888888888, \"#fdca26\"], [1.0, \"#f0f921\"]], \"sequentialminus\": [[0.0, \"#0d0887\"], [0.1111111111111111, \"#46039f\"], [0.2222222222222222, \"#7201a8\"], [0.3333333333333333, \"#9c179e\"], [0.4444444444444444, \"#bd3786\"], [0.5555555555555556, \"#d8576b\"], [0.6666666666666666, \"#ed7953\"], [0.7777777777777778, \"#fb9f3a\"], [0.8888888888888888, \"#fdca26\"], [1.0, \"#f0f921\"]]}, \"colorway\": [\"#636efa\", \"#EF553B\", \"#00cc96\", \"#ab63fa\", \"#FFA15A\", \"#19d3f3\", \"#FF6692\", \"#B6E880\", \"#FF97FF\", \"#FECB52\"], \"font\": {\"color\": \"#2a3f5f\"}, \"geo\": {\"bgcolor\": \"white\", \"lakecolor\": \"white\", \"landcolor\": \"#E5ECF6\", \"showlakes\": true, \"showland\": true, \"subunitcolor\": \"white\"}, \"hoverlabel\": {\"align\": \"left\"}, \"hovermode\": \"closest\", \"mapbox\": {\"style\": \"light\"}, \"paper_bgcolor\": \"white\", \"plot_bgcolor\": \"#E5ECF6\", \"polar\": {\"angularaxis\": {\"gridcolor\": \"white\", \"linecolor\": \"white\", \"ticks\": \"\"}, \"bgcolor\": \"#E5ECF6\", \"radialaxis\": {\"gridcolor\": \"white\", \"linecolor\": \"white\", \"ticks\": \"\"}}, \"scene\": {\"xaxis\": {\"backgroundcolor\": \"#E5ECF6\", \"gridcolor\": \"white\", \"gridwidth\": 2, \"linecolor\": \"white\", \"showbackground\": true, \"ticks\": \"\", \"zerolinecolor\": \"white\"}, \"yaxis\": {\"backgroundcolor\": \"#E5ECF6\", \"gridcolor\": \"white\", \"gridwidth\": 2, \"linecolor\": \"white\", \"showbackground\": true, \"ticks\": \"\", \"zerolinecolor\": \"white\"}, \"zaxis\": {\"backgroundcolor\": \"#E5ECF6\", \"gridcolor\": \"white\", \"gridwidth\": 2, \"linecolor\": \"white\", \"showbackground\": true, \"ticks\": \"\", \"zerolinecolor\": \"white\"}}, \"shapedefaults\": {\"line\": {\"color\": \"#2a3f5f\"}}, \"ternary\": {\"aaxis\": {\"gridcolor\": \"white\", \"linecolor\": \"white\", \"ticks\": \"\"}, \"baxis\": {\"gridcolor\": \"white\", \"linecolor\": \"white\", \"ticks\": \"\"}, \"bgcolor\": \"#E5ECF6\", \"caxis\": {\"gridcolor\": \"white\", \"linecolor\": \"white\", \"ticks\": \"\"}}, \"title\": {\"x\": 0.05}, \"xaxis\": {\"automargin\": true, \"gridcolor\": \"white\", \"linecolor\": \"white\", \"ticks\": \"\", \"title\": {\"standoff\": 15}, \"zerolinecolor\": \"white\", \"zerolinewidth\": 2}, \"yaxis\": {\"automargin\": true, \"gridcolor\": \"white\", \"linecolor\": \"white\", \"ticks\": \"\", \"title\": {\"standoff\": 15}, \"zerolinecolor\": \"white\", \"zerolinewidth\": 2}}}},\n",
              "                        {\"responsive\": true}\n",
              "                    ).then(function(){\n",
              "                            \n",
              "var gd = document.getElementById('6213bd30-ad11-476f-8d70-0039389fac21');\n",
              "var x = new MutationObserver(function (mutations, observer) {{\n",
              "        var display = window.getComputedStyle(gd).display;\n",
              "        if (!display || display === 'none') {{\n",
              "            console.log([gd, 'removed!']);\n",
              "            Plotly.purge(gd);\n",
              "            observer.disconnect();\n",
              "        }}\n",
              "}});\n",
              "\n",
              "// Listen for the removal of the full notebook cells\n",
              "var notebookContainer = gd.closest('#notebook-container');\n",
              "if (notebookContainer) {{\n",
              "    x.observe(notebookContainer, {childList: true});\n",
              "}}\n",
              "\n",
              "// Listen for the clearing of the current output cell\n",
              "var outputEl = gd.closest('.output');\n",
              "if (outputEl) {{\n",
              "    x.observe(outputEl, {childList: true});\n",
              "}}\n",
              "\n",
              "                        })\n",
              "                };\n",
              "                \n",
              "            </script>\n",
              "        </div>\n",
              "</body>\n",
              "</html>"
            ]
          },
          "metadata": {}
        }
      ]
    },
    {
      "cell_type": "markdown",
      "metadata": {
        "id": "-jWpkvkA4qrL"
      },
      "source": [
        "グラフからわかるようにこのデータは線形ではなく2つのメディアを利用すると相乗効果がありそう。\n",
        "\n",
        "3.3.2ではこのようなことを考慮に入れる。"
      ]
    },
    {
      "cell_type": "markdown",
      "metadata": {
        "id": "_HLi90kF5jyT"
      },
      "source": [
        "##### 予測\n",
        "\n",
        "予測にあたってモデルの式をそのまま使うと3つの不確実性が生じる。\n",
        "\n",
        "1. 推定値は真の値とは異なる　-> 信頼区間を考える\n",
        "1. 線形モデルは現実の（線形でない）モデルの表面を近似しているに過ぎない。 -> 無視\n",
        "1. 真の$\\beta$がわかったとしても $\\epsilon$ による誤差が存在する。 -> 区間で予測する。\n",
        "\n",
        "\n"
      ]
    },
    {
      "cell_type": "code",
      "metadata": {
        "id": "AzqYG7EdJVG1",
        "outputId": "e8366e88-ef64-45f3-ecfb-5e711660f94a",
        "colab": {
          "base_uri": "https://localhost:8080/",
          "height": 204
        }
      },
      "source": [
        "credit = pd.read_csv(\"https://www.statlearning.com/s/Credit.csv\")\n",
        "credit.head()"
      ],
      "execution_count": 35,
      "outputs": [
        {
          "output_type": "execute_result",
          "data": {
            "text/html": [
              "<div>\n",
              "<style scoped>\n",
              "    .dataframe tbody tr th:only-of-type {\n",
              "        vertical-align: middle;\n",
              "    }\n",
              "\n",
              "    .dataframe tbody tr th {\n",
              "        vertical-align: top;\n",
              "    }\n",
              "\n",
              "    .dataframe thead th {\n",
              "        text-align: right;\n",
              "    }\n",
              "</style>\n",
              "<table border=\"1\" class=\"dataframe\">\n",
              "  <thead>\n",
              "    <tr style=\"text-align: right;\">\n",
              "      <th></th>\n",
              "      <th>Income</th>\n",
              "      <th>Limit</th>\n",
              "      <th>Rating</th>\n",
              "      <th>Cards</th>\n",
              "      <th>Age</th>\n",
              "      <th>Education</th>\n",
              "      <th>Own</th>\n",
              "      <th>Student</th>\n",
              "      <th>Married</th>\n",
              "      <th>Region</th>\n",
              "      <th>Balance</th>\n",
              "    </tr>\n",
              "  </thead>\n",
              "  <tbody>\n",
              "    <tr>\n",
              "      <th>0</th>\n",
              "      <td>14.891</td>\n",
              "      <td>3606</td>\n",
              "      <td>283</td>\n",
              "      <td>2</td>\n",
              "      <td>34</td>\n",
              "      <td>11</td>\n",
              "      <td>No</td>\n",
              "      <td>No</td>\n",
              "      <td>Yes</td>\n",
              "      <td>South</td>\n",
              "      <td>333</td>\n",
              "    </tr>\n",
              "    <tr>\n",
              "      <th>1</th>\n",
              "      <td>106.025</td>\n",
              "      <td>6645</td>\n",
              "      <td>483</td>\n",
              "      <td>3</td>\n",
              "      <td>82</td>\n",
              "      <td>15</td>\n",
              "      <td>Yes</td>\n",
              "      <td>Yes</td>\n",
              "      <td>Yes</td>\n",
              "      <td>West</td>\n",
              "      <td>903</td>\n",
              "    </tr>\n",
              "    <tr>\n",
              "      <th>2</th>\n",
              "      <td>104.593</td>\n",
              "      <td>7075</td>\n",
              "      <td>514</td>\n",
              "      <td>4</td>\n",
              "      <td>71</td>\n",
              "      <td>11</td>\n",
              "      <td>No</td>\n",
              "      <td>No</td>\n",
              "      <td>No</td>\n",
              "      <td>West</td>\n",
              "      <td>580</td>\n",
              "    </tr>\n",
              "    <tr>\n",
              "      <th>3</th>\n",
              "      <td>148.924</td>\n",
              "      <td>9504</td>\n",
              "      <td>681</td>\n",
              "      <td>3</td>\n",
              "      <td>36</td>\n",
              "      <td>11</td>\n",
              "      <td>Yes</td>\n",
              "      <td>No</td>\n",
              "      <td>No</td>\n",
              "      <td>West</td>\n",
              "      <td>964</td>\n",
              "    </tr>\n",
              "    <tr>\n",
              "      <th>4</th>\n",
              "      <td>55.882</td>\n",
              "      <td>4897</td>\n",
              "      <td>357</td>\n",
              "      <td>2</td>\n",
              "      <td>68</td>\n",
              "      <td>16</td>\n",
              "      <td>No</td>\n",
              "      <td>No</td>\n",
              "      <td>Yes</td>\n",
              "      <td>South</td>\n",
              "      <td>331</td>\n",
              "    </tr>\n",
              "  </tbody>\n",
              "</table>\n",
              "</div>"
            ],
            "text/plain": [
              "    Income  Limit  Rating  Cards  Age  ...  Own Student Married Region Balance\n",
              "0   14.891   3606     283      2   34  ...   No      No     Yes  South     333\n",
              "1  106.025   6645     483      3   82  ...  Yes     Yes     Yes   West     903\n",
              "2  104.593   7075     514      4   71  ...   No      No      No   West     580\n",
              "3  148.924   9504     681      3   36  ...  Yes      No      No   West     964\n",
              "4   55.882   4897     357      2   68  ...   No      No     Yes  South     331\n",
              "\n",
              "[5 rows x 11 columns]"
            ]
          },
          "metadata": {},
          "execution_count": 35
        }
      ]
    },
    {
      "cell_type": "code",
      "metadata": {
        "id": "DkjhbUAzL6XA",
        "outputId": "e3b81edc-b133-4eb9-be79-6acd524b1fd7",
        "colab": {
          "base_uri": "https://localhost:8080/",
          "height": 204
        }
      },
      "source": [
        "credit_d = pd.get_dummies(credit, columns=[\"Own\", \"Region\"])\n",
        "credit_d.head()"
      ],
      "execution_count": 40,
      "outputs": [
        {
          "output_type": "execute_result",
          "data": {
            "text/html": [
              "<div>\n",
              "<style scoped>\n",
              "    .dataframe tbody tr th:only-of-type {\n",
              "        vertical-align: middle;\n",
              "    }\n",
              "\n",
              "    .dataframe tbody tr th {\n",
              "        vertical-align: top;\n",
              "    }\n",
              "\n",
              "    .dataframe thead th {\n",
              "        text-align: right;\n",
              "    }\n",
              "</style>\n",
              "<table border=\"1\" class=\"dataframe\">\n",
              "  <thead>\n",
              "    <tr style=\"text-align: right;\">\n",
              "      <th></th>\n",
              "      <th>Income</th>\n",
              "      <th>Limit</th>\n",
              "      <th>Rating</th>\n",
              "      <th>Cards</th>\n",
              "      <th>Age</th>\n",
              "      <th>Education</th>\n",
              "      <th>Student</th>\n",
              "      <th>Married</th>\n",
              "      <th>Balance</th>\n",
              "      <th>Own_No</th>\n",
              "      <th>Own_Yes</th>\n",
              "      <th>Region_East</th>\n",
              "      <th>Region_South</th>\n",
              "      <th>Region_West</th>\n",
              "    </tr>\n",
              "  </thead>\n",
              "  <tbody>\n",
              "    <tr>\n",
              "      <th>0</th>\n",
              "      <td>14.891</td>\n",
              "      <td>3606</td>\n",
              "      <td>283</td>\n",
              "      <td>2</td>\n",
              "      <td>34</td>\n",
              "      <td>11</td>\n",
              "      <td>No</td>\n",
              "      <td>Yes</td>\n",
              "      <td>333</td>\n",
              "      <td>1</td>\n",
              "      <td>0</td>\n",
              "      <td>0</td>\n",
              "      <td>1</td>\n",
              "      <td>0</td>\n",
              "    </tr>\n",
              "    <tr>\n",
              "      <th>1</th>\n",
              "      <td>106.025</td>\n",
              "      <td>6645</td>\n",
              "      <td>483</td>\n",
              "      <td>3</td>\n",
              "      <td>82</td>\n",
              "      <td>15</td>\n",
              "      <td>Yes</td>\n",
              "      <td>Yes</td>\n",
              "      <td>903</td>\n",
              "      <td>0</td>\n",
              "      <td>1</td>\n",
              "      <td>0</td>\n",
              "      <td>0</td>\n",
              "      <td>1</td>\n",
              "    </tr>\n",
              "    <tr>\n",
              "      <th>2</th>\n",
              "      <td>104.593</td>\n",
              "      <td>7075</td>\n",
              "      <td>514</td>\n",
              "      <td>4</td>\n",
              "      <td>71</td>\n",
              "      <td>11</td>\n",
              "      <td>No</td>\n",
              "      <td>No</td>\n",
              "      <td>580</td>\n",
              "      <td>1</td>\n",
              "      <td>0</td>\n",
              "      <td>0</td>\n",
              "      <td>0</td>\n",
              "      <td>1</td>\n",
              "    </tr>\n",
              "    <tr>\n",
              "      <th>3</th>\n",
              "      <td>148.924</td>\n",
              "      <td>9504</td>\n",
              "      <td>681</td>\n",
              "      <td>3</td>\n",
              "      <td>36</td>\n",
              "      <td>11</td>\n",
              "      <td>No</td>\n",
              "      <td>No</td>\n",
              "      <td>964</td>\n",
              "      <td>0</td>\n",
              "      <td>1</td>\n",
              "      <td>0</td>\n",
              "      <td>0</td>\n",
              "      <td>1</td>\n",
              "    </tr>\n",
              "    <tr>\n",
              "      <th>4</th>\n",
              "      <td>55.882</td>\n",
              "      <td>4897</td>\n",
              "      <td>357</td>\n",
              "      <td>2</td>\n",
              "      <td>68</td>\n",
              "      <td>16</td>\n",
              "      <td>No</td>\n",
              "      <td>Yes</td>\n",
              "      <td>331</td>\n",
              "      <td>1</td>\n",
              "      <td>0</td>\n",
              "      <td>0</td>\n",
              "      <td>1</td>\n",
              "      <td>0</td>\n",
              "    </tr>\n",
              "  </tbody>\n",
              "</table>\n",
              "</div>"
            ],
            "text/plain": [
              "    Income  Limit  Rating  ...  Region_East  Region_South  Region_West\n",
              "0   14.891   3606     283  ...            0             1            0\n",
              "1  106.025   6645     483  ...            0             0            1\n",
              "2  104.593   7075     514  ...            0             0            1\n",
              "3  148.924   9504     681  ...            0             0            1\n",
              "4   55.882   4897     357  ...            0             1            0\n",
              "\n",
              "[5 rows x 14 columns]"
            ]
          },
          "metadata": {},
          "execution_count": 40
        }
      ]
    },
    {
      "cell_type": "markdown",
      "metadata": {
        "id": "ppo5EXGLHOKg"
      },
      "source": [
        "## 3.3 回帰モデルにおけるその他の検討事項\n",
        "\n",
        "### 3.3.1 質的な予測因子\n",
        "\n",
        "例えば`Credit` には\n",
        "* 家の所有\n",
        "* 学生か\n",
        "* 配偶者の有無\n",
        "* 出身地域(東部・西部・南部)\n",
        "\n",
        "といった質的変数が存在する。\n",
        "\n",
        "質的変数を回帰モデルに組み込むにはダミー変数を作成する。\n",
        "\n",
        "$$\n",
        "x_i = \n",
        "\\begin{cases}\n",
        "  1 & 家を持っている場合 \\\\\n",
        "  0 & 家を持っていない場合\n",
        "\\end{cases}\n",
        "$$\n",
        "\n",
        "$$y_i = \\beta_0 + \\beta_1x_i+\\epsilon$$"
      ]
    },
    {
      "cell_type": "code",
      "metadata": {
        "id": "ORZLAe7jOC-x",
        "outputId": "bae933d0-3dff-4643-8017-0c9816cc69d7",
        "colab": {
          "base_uri": "https://localhost:8080/"
        }
      },
      "source": [
        "model_own = ols(formula='Balance ~ Own_Yes', data=credit_d).fit()\n",
        "print(model_own.summary2())"
      ],
      "execution_count": 43,
      "outputs": [
        {
          "output_type": "stream",
          "name": "stdout",
          "text": [
            "                  Results: Ordinary least squares\n",
            "===================================================================\n",
            "Model:              OLS              Adj. R-squared:     -0.002    \n",
            "Dependent Variable: Balance          AIC:                6042.5268 \n",
            "Date:               2021-11-28 20:26 BIC:                6050.5097 \n",
            "No. Observations:   400              Log-Likelihood:     -3019.3   \n",
            "Df Model:           1                F-statistic:        0.1836    \n",
            "Df Residuals:       398              Prob (F-statistic): 0.669     \n",
            "R-squared:          0.000            Scale:              2.1181e+05\n",
            "--------------------------------------------------------------------\n",
            "              Coef.    Std.Err.     t     P>|t|    [0.025    0.975] \n",
            "--------------------------------------------------------------------\n",
            "Intercept    509.8031   33.1281  15.3889  0.0000  444.6752  574.9310\n",
            "Own_Yes       19.7331   46.0512   0.4285  0.6685  -70.8009  110.2671\n",
            "-------------------------------------------------------------------\n",
            "Omnibus:              28.438        Durbin-Watson:           1.940 \n",
            "Prob(Omnibus):        0.000         Jarque-Bera (JB):        27.346\n",
            "Skew:                 0.583         Prob(JB):                0.000 \n",
            "Kurtosis:             2.471         Condition No.:           3     \n",
            "===================================================================\n",
            "\n"
          ]
        }
      ]
    },
    {
      "cell_type": "markdown",
      "metadata": {
        "id": "XSTq_B7aO57d"
      },
      "source": [
        "$$\n",
        "x_{i1} = \n",
        "\\begin{cases}\n",
        "  1 & 南部出身 \\\\\n",
        "  0 & 南部出身でない\n",
        "\\end{cases}\\\\\n",
        "x_{i2} = \n",
        "\\begin{cases}\n",
        "  1 & 西部出身 \\\\\n",
        "  0 & 西部出身でない\n",
        "\\end{cases}\n",
        "$$\n",
        "$$y_i = \\beta_0 + \\beta_1x_{i1} + \\beta_2x_{i2} + \\epsilon$$"
      ]
    },
    {
      "cell_type": "code",
      "metadata": {
        "id": "s0pGvDfJPmeL",
        "outputId": "da0f98d8-b016-47b7-c8f0-5ab2e97bd292",
        "colab": {
          "base_uri": "https://localhost:8080/"
        }
      },
      "source": [
        "model_region = ols(formula='Balance ~ Region_South\t+ Region_West', data=credit_d).fit()\n",
        "print(model_region.summary2())"
      ],
      "execution_count": 44,
      "outputs": [
        {
          "output_type": "stream",
          "name": "stdout",
          "text": [
            "                  Results: Ordinary least squares\n",
            "===================================================================\n",
            "Model:              OLS              Adj. R-squared:     -0.005    \n",
            "Dependent Variable: Balance          AIC:                6044.6238 \n",
            "Date:               2021-11-28 20:31 BIC:                6056.5982 \n",
            "No. Observations:   400              Log-Likelihood:     -3019.3   \n",
            "Df Model:           2                F-statistic:        0.04344   \n",
            "Df Residuals:       397              Prob (F-statistic): 0.957     \n",
            "R-squared:          0.000            Scale:              2.1240e+05\n",
            "-------------------------------------------------------------------\n",
            "                 Coef.   Std.Err.    t    P>|t|    [0.025   0.975] \n",
            "-------------------------------------------------------------------\n",
            "Intercept       531.0000  46.3187 11.4641 0.0000  439.9394 622.0606\n",
            "Region_South    -12.5025  56.6810 -0.2206 0.8255 -123.9350  98.9300\n",
            "Region_West     -18.6863  65.0211 -0.2874 0.7740 -146.5149 109.1424\n",
            "-------------------------------------------------------------------\n",
            "Omnibus:              28.829        Durbin-Watson:           1.946 \n",
            "Prob(Omnibus):        0.000         Jarque-Bera (JB):        27.395\n",
            "Skew:                 0.581         Prob(JB):                0.000 \n",
            "Kurtosis:             2.460         Condition No.:           4     \n",
            "===================================================================\n",
            "\n"
          ]
        }
      ]
    },
    {
      "cell_type": "markdown",
      "metadata": {
        "id": "3ny-ErHHQnvz"
      },
      "source": [
        "### 3.3.2 線形モデルの拡張\n",
        "\n",
        "線形モデルでは $X$ と $Y$ の間にと加法性と線形性が成り立つという仮定をおいていた。\n",
        "* 加法性：$X_i$ と $Y$ の関係が他の説明変数に依存しないこと。\n",
        "* 線形性：$X_i$ の変化による $Y$ の変化が他の説明変数に依存せず一定であること。\n",
        "\n",
        "これらの仮定を緩和するための古典的な手法を示す。\n",
        "\n",
        "#### 加法性の緩和\n",
        "\n",
        "`Advertising`に対して次のような**相互作用項**を含むモデルを考える\n",
        "\n",
        "$$Y = \\beta_0 + \\beta_1X_1 + \\beta_2X_2 + \\beta_3X_1X_2 + \\epsilon$$\n"
      ]
    },
    {
      "cell_type": "code",
      "metadata": {
        "id": "xuZs-gHuULV7",
        "outputId": "afb50198-9778-4a55-ca33-b0b54e64e536",
        "colab": {
          "base_uri": "https://localhost:8080/"
        }
      },
      "source": [
        "model_inter_TV_radio = ols(formula=\"sales ~ TV + radio + TV*radio\", data=ad).fit()\n",
        "print(model_inter_TV_radio.summary2())"
      ],
      "execution_count": 48,
      "outputs": [
        {
          "output_type": "stream",
          "name": "stdout",
          "text": [
            "                 Results: Ordinary least squares\n",
            "==================================================================\n",
            "Model:              OLS              Adj. R-squared:     0.967    \n",
            "Dependent Variable: sales            AIC:                548.2778 \n",
            "Date:               2021-11-28 20:53 BIC:                561.4711 \n",
            "No. Observations:   200              Log-Likelihood:     -270.14  \n",
            "Df Model:           3                F-statistic:        1963.    \n",
            "Df Residuals:       196              Prob (F-statistic): 6.68e-146\n",
            "R-squared:          0.968            Scale:              0.89022  \n",
            "--------------------------------------------------------------------\n",
            "              Coef.    Std.Err.      t      P>|t|    [0.025   0.975]\n",
            "--------------------------------------------------------------------\n",
            "Intercept     6.7502     0.2479   27.2328   0.0000   6.2614   7.2391\n",
            "TV            0.0191     0.0015   12.6990   0.0000   0.0161   0.0221\n",
            "radio         0.0289     0.0089    3.2408   0.0014   0.0113   0.0464\n",
            "TV:radio      0.0011     0.0001   20.7266   0.0000   0.0010   0.0012\n",
            "------------------------------------------------------------------\n",
            "Omnibus:              128.132      Durbin-Watson:         2.224   \n",
            "Prob(Omnibus):        0.000        Jarque-Bera (JB):      1183.719\n",
            "Skew:                 -2.323       Prob(JB):              0.000   \n",
            "Kurtosis:             13.975       Condition No.:         17997   \n",
            "==================================================================\n",
            "* The condition number is large (2e+04). This might indicate\n",
            "strong multicollinearity or other numerical problems.\n"
          ]
        }
      ]
    },
    {
      "cell_type": "markdown",
      "metadata": {
        "id": "_Wy-pGMlVvTX"
      },
      "source": [
        "`TV`と`radio`のみのモデルよりも$R^2$が大きくなっている。また、相互作用項のp値も小さいため、この項をモデルに含めるべきだということがわかる。\n",
        "\n",
        "単体の場合のp値が小さくなくてもそれらの相互作用項のp値が小さくなることがある。\n",
        "\n",
        "質的変数に対しても相互作用を考えることができる。"
      ]
    },
    {
      "cell_type": "code",
      "metadata": {
        "id": "Jcap36YzaiNu",
        "outputId": "ec762955-c276-45d4-bfb5-1ea5886bbfc7",
        "colab": {
          "base_uri": "https://localhost:8080/",
          "height": 204
        }
      },
      "source": [
        "auto = pd.read_csv(\"https://www.statlearning.com/s/Auto.csv\", na_values='?').dropna()\n",
        "auto.head()"
      ],
      "execution_count": 56,
      "outputs": [
        {
          "output_type": "execute_result",
          "data": {
            "text/html": [
              "<div>\n",
              "<style scoped>\n",
              "    .dataframe tbody tr th:only-of-type {\n",
              "        vertical-align: middle;\n",
              "    }\n",
              "\n",
              "    .dataframe tbody tr th {\n",
              "        vertical-align: top;\n",
              "    }\n",
              "\n",
              "    .dataframe thead th {\n",
              "        text-align: right;\n",
              "    }\n",
              "</style>\n",
              "<table border=\"1\" class=\"dataframe\">\n",
              "  <thead>\n",
              "    <tr style=\"text-align: right;\">\n",
              "      <th></th>\n",
              "      <th>mpg</th>\n",
              "      <th>cylinders</th>\n",
              "      <th>displacement</th>\n",
              "      <th>horsepower</th>\n",
              "      <th>weight</th>\n",
              "      <th>acceleration</th>\n",
              "      <th>year</th>\n",
              "      <th>origin</th>\n",
              "      <th>name</th>\n",
              "    </tr>\n",
              "  </thead>\n",
              "  <tbody>\n",
              "    <tr>\n",
              "      <th>0</th>\n",
              "      <td>18.0</td>\n",
              "      <td>8</td>\n",
              "      <td>307.0</td>\n",
              "      <td>130.0</td>\n",
              "      <td>3504</td>\n",
              "      <td>12.0</td>\n",
              "      <td>70</td>\n",
              "      <td>1</td>\n",
              "      <td>chevrolet chevelle malibu</td>\n",
              "    </tr>\n",
              "    <tr>\n",
              "      <th>1</th>\n",
              "      <td>15.0</td>\n",
              "      <td>8</td>\n",
              "      <td>350.0</td>\n",
              "      <td>165.0</td>\n",
              "      <td>3693</td>\n",
              "      <td>11.5</td>\n",
              "      <td>70</td>\n",
              "      <td>1</td>\n",
              "      <td>buick skylark 320</td>\n",
              "    </tr>\n",
              "    <tr>\n",
              "      <th>2</th>\n",
              "      <td>18.0</td>\n",
              "      <td>8</td>\n",
              "      <td>318.0</td>\n",
              "      <td>150.0</td>\n",
              "      <td>3436</td>\n",
              "      <td>11.0</td>\n",
              "      <td>70</td>\n",
              "      <td>1</td>\n",
              "      <td>plymouth satellite</td>\n",
              "    </tr>\n",
              "    <tr>\n",
              "      <th>3</th>\n",
              "      <td>16.0</td>\n",
              "      <td>8</td>\n",
              "      <td>304.0</td>\n",
              "      <td>150.0</td>\n",
              "      <td>3433</td>\n",
              "      <td>12.0</td>\n",
              "      <td>70</td>\n",
              "      <td>1</td>\n",
              "      <td>amc rebel sst</td>\n",
              "    </tr>\n",
              "    <tr>\n",
              "      <th>4</th>\n",
              "      <td>17.0</td>\n",
              "      <td>8</td>\n",
              "      <td>302.0</td>\n",
              "      <td>140.0</td>\n",
              "      <td>3449</td>\n",
              "      <td>10.5</td>\n",
              "      <td>70</td>\n",
              "      <td>1</td>\n",
              "      <td>ford torino</td>\n",
              "    </tr>\n",
              "  </tbody>\n",
              "</table>\n",
              "</div>"
            ],
            "text/plain": [
              "    mpg  cylinders  displacement  ...  year  origin                       name\n",
              "0  18.0          8         307.0  ...    70       1  chevrolet chevelle malibu\n",
              "1  15.0          8         350.0  ...    70       1          buick skylark 320\n",
              "2  18.0          8         318.0  ...    70       1         plymouth satellite\n",
              "3  16.0          8         304.0  ...    70       1              amc rebel sst\n",
              "4  17.0          8         302.0  ...    70       1                ford torino\n",
              "\n",
              "[5 rows x 9 columns]"
            ]
          },
          "metadata": {},
          "execution_count": 56
        }
      ]
    },
    {
      "cell_type": "markdown",
      "metadata": {
        "id": "F1c6nUWBae3R"
      },
      "source": [
        "#### 非線形モデル\n",
        "\n",
        "多項式回帰を用いて非線形関係に対応する。\n",
        "\n",
        "`Auto`に対してモデル\n",
        "\n",
        "$$\\textrm{mpg} = \\beta_0 + \\beta_1\\times\\textrm{horsepower} + \\beta_2\\times\\textrm{horsepower}^2 + \\epsilon$$\n",
        "\n",
        "を考える。\n"
      ]
    },
    {
      "cell_type": "code",
      "metadata": {
        "id": "3eg7MEKkb9jT",
        "outputId": "4b8e413d-9d07-46aa-b3df-a391dff37c9f",
        "colab": {
          "base_uri": "https://localhost:8080/"
        }
      },
      "source": [
        "model_horse = ols(formula=\"mpg ~ horsepower\", data=auto).fit()\n",
        "print(model_horse.summary2())"
      ],
      "execution_count": 57,
      "outputs": [
        {
          "output_type": "stream",
          "name": "stdout",
          "text": [
            "                 Results: Ordinary least squares\n",
            "==================================================================\n",
            "Model:              OLS              Adj. R-squared:     0.605    \n",
            "Dependent Variable: mpg              AIC:                2361.3237\n",
            "Date:               2021-11-28 21:29 BIC:                2369.2662\n",
            "No. Observations:   392              Log-Likelihood:     -1178.7  \n",
            "Df Model:           1                F-statistic:        599.7    \n",
            "Df Residuals:       390              Prob (F-statistic): 7.03e-81 \n",
            "R-squared:          0.606            Scale:              24.066   \n",
            "-------------------------------------------------------------------\n",
            "               Coef.   Std.Err.     t      P>|t|    [0.025   0.975]\n",
            "-------------------------------------------------------------------\n",
            "Intercept     39.9359    0.7175   55.6598  0.0000  38.5252  41.3465\n",
            "horsepower    -0.1578    0.0064  -24.4891  0.0000  -0.1705  -0.1452\n",
            "------------------------------------------------------------------\n",
            "Omnibus:               16.432       Durbin-Watson:          0.920 \n",
            "Prob(Omnibus):         0.000        Jarque-Bera (JB):       17.305\n",
            "Skew:                  0.492        Prob(JB):               0.000 \n",
            "Kurtosis:              3.299        Condition No.:          322   \n",
            "==================================================================\n",
            "\n"
          ]
        }
      ]
    },
    {
      "cell_type": "code",
      "metadata": {
        "id": "3q3zL_5eeAgE"
      },
      "source": [
        "def pow2(data):\n",
        "  return data * data"
      ],
      "execution_count": 64,
      "outputs": []
    },
    {
      "cell_type": "code",
      "metadata": {
        "id": "mFQsdhjAdIdq",
        "outputId": "08b1d3a0-46ca-4180-edcd-8aaa95141471",
        "colab": {
          "base_uri": "https://localhost:8080/"
        }
      },
      "source": [
        "model_horse2 = ols(formula=\"mpg ~ horsepower + pow2(horsepower)\", data=auto).fit()\n",
        "print(model_horse2.summary2())"
      ],
      "execution_count": 65,
      "outputs": [
        {
          "output_type": "stream",
          "name": "stdout",
          "text": [
            "                 Results: Ordinary least squares\n",
            "==================================================================\n",
            "Model:              OLS              Adj. R-squared:     0.686    \n",
            "Dependent Variable: mpg              AIC:                2272.3535\n",
            "Date:               2021-11-28 21:34 BIC:                2284.2673\n",
            "No. Observations:   392              Log-Likelihood:     -1133.2  \n",
            "Df Model:           2                F-statistic:        428.0    \n",
            "Df Residuals:       389              Prob (F-statistic): 5.40e-99 \n",
            "R-squared:          0.688            Scale:              19.131   \n",
            "------------------------------------------------------------------\n",
            "                   Coef.  Std.Err.    t     P>|t|   [0.025  0.975]\n",
            "------------------------------------------------------------------\n",
            "Intercept         56.9001   1.8004  31.6037 0.0000 53.3603 60.4399\n",
            "horsepower        -0.4662   0.0311 -14.9782 0.0000 -0.5274 -0.4050\n",
            "pow2(horsepower)   0.0012   0.0001  10.0801 0.0000  0.0010  0.0015\n",
            "------------------------------------------------------------------\n",
            "Omnibus:               16.158       Durbin-Watson:          1.078 \n",
            "Prob(Omnibus):         0.000        Jarque-Bera (JB):       30.662\n",
            "Skew:                  0.218        Prob(JB):               0.000 \n",
            "Kurtosis:              4.299        Condition No.:          128782\n",
            "==================================================================\n",
            "* The condition number is large (1e+05). This might indicate\n",
            "strong multicollinearity or other numerical problems.\n"
          ]
        }
      ]
    },
    {
      "cell_type": "markdown",
      "metadata": {
        "id": "frEYCTZEed-W"
      },
      "source": [
        "2乗の項を加えたほうが良さそうに見える。さらに5乗の項まで加えると次のようになる。"
      ]
    },
    {
      "cell_type": "code",
      "metadata": {
        "id": "pNopXs_Eeknx",
        "outputId": "e3f546ba-72a4-4ea5-a9d3-346538b4433f",
        "colab": {
          "base_uri": "https://localhost:8080/",
          "height": 285
        }
      },
      "source": [
        "plt.scatter(data=auto, x=\"horsepower\", y=\"mpg\",alpha=0.5) \n",
        "sns.regplot(data=auto, x=\"horsepower\", y=\"mpg\", ci=None, label='Linear', scatter=False, color='orange')\n",
        "sns.regplot(data=auto, x=\"horsepower\", y=\"mpg\", ci=None, label='Degree 2', order=2, scatter=False, color='green')\n",
        "sns.regplot(data=auto, x=\"horsepower\", y=\"mpg\", ci=None, label='Degree 5', order=5, scatter=False, color='red')\n",
        "plt.legend()\n",
        "plt.show()"
      ],
      "execution_count": 70,
      "outputs": [
        {
          "output_type": "display_data",
          "data": {
            "image/png": "[encoded data removed]",
            "text/plain": [
              "<Figure size 432x288 with 1 Axes>"
            ]
          },
          "metadata": {}
        }
      ]
    },
    {
      "cell_type": "markdown",
      "metadata": {
        "id": "RJmSfsQYf6UI"
      },
      "source": [
        "5乗の回帰曲線は不自然に曲がっており、データへの適合度が上がったかどうか不明。詳しくは7章で\n"
      ]
    }
  ]
}