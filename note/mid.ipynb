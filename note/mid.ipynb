{
  "nbformat": 4,
  "nbformat_minor": 0,
  "metadata": {
    "colab": {
      "provenance": [],
      "collapsed_sections": [
        "bUkcjmV3919a",
        "cz2NDAu0ZERm"
      ],
      "authorship_tag": "ABX9TyP8poDl5cvhiMZLFNakZmnI",
      "include_colab_link": true
    },
    "kernelspec": {
      "name": "python3",
      "display_name": "Python 3"
    },
    "language_info": {
      "name": "python"
    }
  },
  "cells": [
    {
      "cell_type": "markdown",
      "metadata": {
        "id": "view-in-github",
        "colab_type": "text"
      },
      "source": [
        "<a href=\"https://colab.research.google.com/github/bayashi-cl/statistical-learning/blob/main/note/mid.ipynb\" target=\"_parent\"><img src=\"https://colab.research.google.com/assets/colab-badge.svg\" alt=\"Open In Colab\"/></a>"
      ]
    },
    {
      "cell_type": "markdown",
      "source": [
        "# 中間報告\n",
        "\n",
        "## 要約\n",
        "\n",
        "* 機械学習の特にノンパラメトリック性への理解が甘く、設定した目的を達成するのが難しい。\n",
        "* 予測の1手法としてNNを使い、その結果を従来の手法と比較する方針へ\n",
        "\n",
        "\n",
        "\n"
      ],
      "metadata": {
        "id": "tCo352uyxNAr"
      }
    },
    {
      "cell_type": "markdown",
      "source": [
        "## やりたかったこと\n",
        "\n",
        "* 機械学習、特にNNが経済学で用いられてきた手法から捉えなおす\n",
        "* 経済学の手法をNNに落とし込む\n",
        "\n",
        "\n",
        "## 目的\n",
        "\n",
        "1. 経済データに対して、経済学で一般に用いられるモデルと深層学習を用いたモデルで予測を行い、その結果を比較する。\n",
        "1. 経済学的モデルと深層学習の比較考察を行う。\n",
        "1. 経済学的モデルに含まれる要素を考慮した深層学習モデルを作成し、予測精度の改善を図る。\n"
      ],
      "metadata": {
        "id": "oA9Hninv7491"
      }
    },
    {
      "cell_type": "markdown",
      "source": [
        "## (再掲)計量・時系列的アプローチと機械学習的アプローチの違い"
      ],
      "metadata": {
        "id": "bUkcjmV3919a"
      }
    },
    {
      "cell_type": "markdown",
      "source": [
        "- 計量・時系列的アプローチ: 経済学、特に計量経済などで用いられるアプローチ\n",
        "- 機械学習的アプローチ: 工学分野で用いられるアプローチ\n",
        "\n",
        "||計量・時系列的アプローチ|機械学習的アプローチ|\n",
        "|:-:|:-:|:-:|\n",
        "|目的|パラメータ推定・検定・因果推定が主|予測が主|\n",
        "|手法|基本的に分布を仮定（パラメトリック）|分布を仮定しない（ノンパラメトリック）|\n",
        "|データの扱い|大数の法則|過学習を防ぎ汎化性能を高める|\n",
        "\n"
      ],
      "metadata": {
        "id": "COLBwSqxzxOs"
      }
    },
    {
      "cell_type": "markdown",
      "source": [
        "## 時系列における予測\n",
        "\n",
        "* ARモデル・ARMAモデルなど、モデルの線形性を重視している。\n",
        "* そのためNNを使ったモデルとの対応付けが難しい。\n"
      ],
      "metadata": {
        "id": "jTZjG52x5yae"
      }
    },
    {
      "cell_type": "markdown",
      "source": [
        "\n",
        "### （例）ARMAモデル\n",
        "\n",
        "ARMA(p, q)モデル\n",
        "\n",
        "$$\n",
        "y_t = c + \\phi_1 y_{t-1} + \\dots + \\phi_p y_{t-p} + \\epsilon_t + \\theta_1\\epsilon_{t-1} + \\dots + \\theta_p\\epsilon_{t-p}\n",
        "$$\n",
        "\n",
        "項を並び替えて\n",
        "\n",
        "$$\n",
        "y_t = c + (\\phi_1 y_{t-1} + \\theta_1\\epsilon_{t-1}) + \\dots + (\\phi_p y_{t-p} + \\theta_p\\epsilon_{t-p}) + \\epsilon_t\n",
        "$$\n",
        "\n",
        "これはほぼ単層NNに内包されている"
      ],
      "metadata": {
        "id": "QIjkkd9Z5wTY"
      }
    },
    {
      "cell_type": "markdown",
      "source": [
        "## （再掲）10.1 単層ニューラルネットワーク"
      ],
      "metadata": {
        "id": "cz2NDAu0ZERm"
      }
    },
    {
      "cell_type": "markdown",
      "source": [
        "![スクリーンショット 2022-05-26 215201.png](data:image/png;base64,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)"
      ],
      "metadata": {
        "id": "5ukM_kmQbK60"
      }
    },
    {
      "cell_type": "markdown",
      "source": [
        "ニューラルネットワークは $p$ 要素のベクトル $X = (X_1, \\dots , X_p)$ を入力にとる非線形関数 $f(X)$ として機能し、応答変数 $Y$ を出力する。\n",
        "\n",
        "上の図では説明変数 $X_1, \\dots , X_4$ が**入力層**となり、**隠れ層**へ接続されている。\n",
        "\n",
        "このニューラルネットワークを式で表すと（$K$ は隠れ層のニューロンの数）\n",
        "\n",
        "$$\n",
        "\\begin{aligned}\n",
        "  Y = f(X) &= \\beta_0 + \\sum_{k = 1}^{K}\\beta_k h_k(X)\\\\\n",
        "  &= \\beta_0 + \\sum_{k = 1}^{K}\\beta_k g(w_{k, 0} + \\sum_{j = 0}^{p}w_{k, j} X_j)\n",
        "\\end{aligned}\n",
        "$$\n",
        "\n",
        "この関数は2つのステップから成る。\n",
        "\n",
        "まず各 $k$ について $A_k$ を計算する。これは入力として $X$ をとる。\n",
        "\n",
        "$$A_k = h_k(X) = g(w_{k, 0} + \\sum_{j = 0}^{p}w_{k, j} X_j)$$\n",
        "\n",
        "$g(z)$ は**活性化関数**と呼ばれる\n",
        "\n",
        "その後、$A$を入力とする線形回帰を行って出力を得る。\n",
        "\n",
        "$$f(X) = \\beta_0 + \\sum_{k = 1}^{K}\\beta_k A_k$$\n",
        "\n",
        "ここでは、パラメータとして$\\beta_0, \\dots , \\beta_K, w_{1,0},\\dots ,w_{K,p}$を推定する必要がある。"
      ],
      "metadata": {
        "id": "UILiJJM9bkka"
      }
    },
    {
      "cell_type": "markdown",
      "source": [
        "## 今後について\n",
        "\n",
        "\n",
        "## 目的\n",
        "\n",
        "1. 経済データに対して、経済学で一般に用いられるモデルと深層学習を用いたモデルで予測を行い、その結果を比較する。\n",
        "1. ~~経済学的モデルと深層学習の比較考察を行う。~~\n",
        "1. ~~経済学的モデルに含まれる要素を考慮した深層学習モデルを作成し、予測精度の改善を図る。~~\n",
        "\n",
        "## 分析対象の候補\n",
        "\n",
        "* 日経平均株価 翌日の終値が上昇 or 下降の二値分類\n",
        "* その他周期性が複雑で現状の時系列モデルが不得手としそうなもの。"
      ],
      "metadata": {
        "id": "LigkYIRJAFhg"
      }
    }
  ]
}